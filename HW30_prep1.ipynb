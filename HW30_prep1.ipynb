{
 "cells": [
  {
   "cell_type": "code",
   "execution_count": 725,
   "id": "1a79918d-8a08-438d-95e2-6c053acafd40",
   "metadata": {},
   "outputs": [],
   "source": [
    "import numpy as np\n",
    "import pandas as pd\n",
    "import matplotlib.pyplot as plt\n",
    "# import seaborn as sns"
   ]
  },
  {
   "cell_type": "code",
   "execution_count": 726,
   "id": "0ce37048-972a-4389-8804-da23439a1126",
   "metadata": {},
   "outputs": [
    {
     "name": "stdout",
     "output_type": "stream",
     "text": [
      "Defaulting to user installation because normal site-packages is not writeable\n",
      "Requirement already satisfied: seaborn in /home/michael/.local/lib/python3.10/site-packages (0.13.2)\n",
      "Requirement already satisfied: pandas>=1.2 in /usr/local/lib/python3.10/dist-packages (from seaborn) (2.2.3)\n",
      "Requirement already satisfied: numpy!=1.24.0,>=1.20 in /usr/local/lib/python3.10/dist-packages (from seaborn) (2.1.3)\n",
      "Requirement already satisfied: matplotlib!=3.6.1,>=3.4 in /home/michael/.local/lib/python3.10/site-packages (from seaborn) (3.9.2)\n",
      "Requirement already satisfied: python-dateutil>=2.7 in /home/michael/.local/lib/python3.10/site-packages (from matplotlib!=3.6.1,>=3.4->seaborn) (2.9.0.post0)\n",
      "Requirement already satisfied: cycler>=0.10 in /usr/lib/python3/dist-packages (from matplotlib!=3.6.1,>=3.4->seaborn) (0.11.0)\n",
      "Requirement already satisfied: contourpy>=1.0.1 in /home/michael/.local/lib/python3.10/site-packages (from matplotlib!=3.6.1,>=3.4->seaborn) (1.3.1)\n",
      "Requirement already satisfied: packaging>=20.0 in /home/michael/.local/lib/python3.10/site-packages (from matplotlib!=3.6.1,>=3.4->seaborn) (23.1)\n",
      "Requirement already satisfied: kiwisolver>=1.3.1 in /usr/lib/python3/dist-packages (from matplotlib!=3.6.1,>=3.4->seaborn) (1.3.2)\n",
      "Requirement already satisfied: fonttools>=4.22.0 in /usr/lib/python3/dist-packages (from matplotlib!=3.6.1,>=3.4->seaborn) (4.29.1)\n",
      "Requirement already satisfied: pyparsing>=2.3.1 in /usr/lib/python3/dist-packages (from matplotlib!=3.6.1,>=3.4->seaborn) (2.4.7)\n",
      "Requirement already satisfied: pillow>=8 in /home/michael/.local/lib/python3.10/site-packages (from matplotlib!=3.6.1,>=3.4->seaborn) (11.0.0)\n",
      "Requirement already satisfied: tzdata>=2022.7 in /usr/local/lib/python3.10/dist-packages (from pandas>=1.2->seaborn) (2024.2)\n",
      "Requirement already satisfied: pytz>=2020.1 in /usr/lib/python3/dist-packages (from pandas>=1.2->seaborn) (2022.1)\n",
      "Requirement already satisfied: six>=1.5 in /usr/lib/python3/dist-packages (from python-dateutil>=2.7->matplotlib!=3.6.1,>=3.4->seaborn) (1.16.0)\n"
     ]
    }
   ],
   "source": [
    "!pip install seaborn"
   ]
  },
  {
   "cell_type": "code",
   "execution_count": 727,
   "id": "65c4a3d5-f44d-43a4-ad5c-62c76811182a",
   "metadata": {},
   "outputs": [],
   "source": [
    "import seaborn as sns"
   ]
  },
  {
   "cell_type": "code",
   "execution_count": 728,
   "id": "8b6b69ef-82a8-4ac3-8646-c89e07632e65",
   "metadata": {},
   "outputs": [
    {
     "data": {
      "text/html": [
       "<div>\n",
       "<style scoped>\n",
       "    .dataframe tbody tr th:only-of-type {\n",
       "        vertical-align: middle;\n",
       "    }\n",
       "\n",
       "    .dataframe tbody tr th {\n",
       "        vertical-align: top;\n",
       "    }\n",
       "\n",
       "    .dataframe thead th {\n",
       "        text-align: right;\n",
       "    }\n",
       "</style>\n",
       "<table border=\"1\" class=\"dataframe\">\n",
       "  <thead>\n",
       "    <tr style=\"text-align: right;\">\n",
       "      <th></th>\n",
       "      <th>course_id</th>\n",
       "      <th>course_name</th>\n",
       "      <th>course_category</th>\n",
       "      <th>teacher_id</th>\n",
       "      <th>course_start_date</th>\n",
       "    </tr>\n",
       "  </thead>\n",
       "  <tbody>\n",
       "    <tr>\n",
       "      <th>16</th>\n",
       "      <td>17</td>\n",
       "      <td>Product Manager</td>\n",
       "      <td>Product &amp; Business Strategy</td>\n",
       "      <td>NaN</td>\n",
       "      <td>2023-07-15</td>\n",
       "    </tr>\n",
       "    <tr>\n",
       "      <th>22</th>\n",
       "      <td>23</td>\n",
       "      <td>Cyber</td>\n",
       "      <td>Data Science &amp; Security</td>\n",
       "      <td>18.0</td>\n",
       "      <td>2023-10-04</td>\n",
       "    </tr>\n",
       "    <tr>\n",
       "      <th>44</th>\n",
       "      <td>45</td>\n",
       "      <td>AI Developer</td>\n",
       "      <td>Software Development</td>\n",
       "      <td>9.0</td>\n",
       "      <td>2023-06-27</td>\n",
       "    </tr>\n",
       "    <tr>\n",
       "      <th>31</th>\n",
       "      <td>32</td>\n",
       "      <td>Product Manager</td>\n",
       "      <td>Product &amp; Business Strategy</td>\n",
       "      <td>28.0</td>\n",
       "      <td>2023-01-14</td>\n",
       "    </tr>\n",
       "    <tr>\n",
       "      <th>0</th>\n",
       "      <td>1</td>\n",
       "      <td>Full Stack Developer</td>\n",
       "      <td>Software Development</td>\n",
       "      <td>30.0</td>\n",
       "      <td>2023-08-17</td>\n",
       "    </tr>\n",
       "  </tbody>\n",
       "</table>\n",
       "</div>"
      ],
      "text/plain": [
       "    course_id           course_name              course_category  teacher_id  \\\n",
       "16         17       Product Manager  Product & Business Strategy         NaN   \n",
       "22         23                 Cyber      Data Science & Security        18.0   \n",
       "44         45          AI Developer         Software Development         9.0   \n",
       "31         32       Product Manager  Product & Business Strategy        28.0   \n",
       "0           1  Full Stack Developer         Software Development        30.0   \n",
       "\n",
       "   course_start_date  \n",
       "16        2023-07-15  \n",
       "22        2023-10-04  \n",
       "44        2023-06-27  \n",
       "31        2023-01-14  \n",
       "0         2023-08-17  "
      ]
     },
     "execution_count": 728,
     "metadata": {},
     "output_type": "execute_result"
    }
   ],
   "source": [
    "courses_df = pd.read_csv(r\"courses.csv\")\n",
    "courses_df.sample(5)"
   ]
  },
  {
   "cell_type": "code",
   "execution_count": 729,
   "id": "51dbb64d-da17-4ff2-873a-f30e872827be",
   "metadata": {},
   "outputs": [
    {
     "data": {
      "text/html": [
       "<div>\n",
       "<style scoped>\n",
       "    .dataframe tbody tr th:only-of-type {\n",
       "        vertical-align: middle;\n",
       "    }\n",
       "\n",
       "    .dataframe tbody tr th {\n",
       "        vertical-align: top;\n",
       "    }\n",
       "\n",
       "    .dataframe thead th {\n",
       "        text-align: right;\n",
       "    }\n",
       "</style>\n",
       "<table border=\"1\" class=\"dataframe\">\n",
       "  <thead>\n",
       "    <tr style=\"text-align: right;\">\n",
       "      <th></th>\n",
       "      <th>id</th>\n",
       "      <th>first_name</th>\n",
       "      <th>last_name</th>\n",
       "      <th>gender</th>\n",
       "      <th>age</th>\n",
       "      <th>city</th>\n",
       "      <th>education</th>\n",
       "      <th>email</th>\n",
       "    </tr>\n",
       "  </thead>\n",
       "  <tbody>\n",
       "    <tr>\n",
       "      <th>391</th>\n",
       "      <td>392</td>\n",
       "      <td>Herold</td>\n",
       "      <td>Zouch</td>\n",
       "      <td>Male</td>\n",
       "      <td>18.0</td>\n",
       "      <td>Jerusalem</td>\n",
       "      <td>High school</td>\n",
       "      <td>hzouchav@paginegialle.it</td>\n",
       "    </tr>\n",
       "    <tr>\n",
       "      <th>398</th>\n",
       "      <td>399</td>\n",
       "      <td>Feliza</td>\n",
       "      <td>Grzesiewicz</td>\n",
       "      <td>Female</td>\n",
       "      <td>45.0</td>\n",
       "      <td>Jerusalem</td>\n",
       "      <td>High school</td>\n",
       "      <td>fgrzesiewiczb2@cisco.com</td>\n",
       "    </tr>\n",
       "    <tr>\n",
       "      <th>119</th>\n",
       "      <td>120</td>\n",
       "      <td>Vivienne</td>\n",
       "      <td>Greg</td>\n",
       "      <td>Female</td>\n",
       "      <td>37.0</td>\n",
       "      <td>Ashkelon</td>\n",
       "      <td>Bachelor's degree</td>\n",
       "      <td>vgreg3b@themeforest.net</td>\n",
       "    </tr>\n",
       "    <tr>\n",
       "      <th>401</th>\n",
       "      <td>402</td>\n",
       "      <td>Clem</td>\n",
       "      <td>Valerio</td>\n",
       "      <td>Male</td>\n",
       "      <td>27.0</td>\n",
       "      <td>Ashdod</td>\n",
       "      <td>High school</td>\n",
       "      <td>cvaleriob5@homestead.com</td>\n",
       "    </tr>\n",
       "    <tr>\n",
       "      <th>359</th>\n",
       "      <td>360</td>\n",
       "      <td>Augustus</td>\n",
       "      <td>Beat</td>\n",
       "      <td>Male</td>\n",
       "      <td>34.0</td>\n",
       "      <td>Haifa</td>\n",
       "      <td>Bachelor's degree</td>\n",
       "      <td>abeat9z@reverbnation.com</td>\n",
       "    </tr>\n",
       "  </tbody>\n",
       "</table>\n",
       "</div>"
      ],
      "text/plain": [
       "      id first_name    last_name  gender   age       city          education  \\\n",
       "391  392     Herold        Zouch    Male  18.0  Jerusalem        High school   \n",
       "398  399     Feliza  Grzesiewicz  Female  45.0  Jerusalem        High school   \n",
       "119  120   Vivienne         Greg  Female  37.0   Ashkelon  Bachelor's degree   \n",
       "401  402       Clem      Valerio    Male  27.0     Ashdod        High school   \n",
       "359  360   Augustus         Beat    Male  34.0      Haifa  Bachelor's degree   \n",
       "\n",
       "                        email  \n",
       "391  hzouchav@paginegialle.it  \n",
       "398  fgrzesiewiczb2@cisco.com  \n",
       "119   vgreg3b@themeforest.net  \n",
       "401  cvaleriob5@homestead.com  \n",
       "359  abeat9z@reverbnation.com  "
      ]
     },
     "execution_count": 729,
     "metadata": {},
     "output_type": "execute_result"
    }
   ],
   "source": [
    "students_df = pd.read_csv(r\"students.csv\")\n",
    "students_df.sample(5)"
   ]
  },
  {
   "cell_type": "code",
   "execution_count": 730,
   "id": "10d0f510-1e67-4c89-84f2-a75b70db672f",
   "metadata": {},
   "outputs": [
    {
     "data": {
      "text/html": [
       "<div>\n",
       "<style scoped>\n",
       "    .dataframe tbody tr th:only-of-type {\n",
       "        vertical-align: middle;\n",
       "    }\n",
       "\n",
       "    .dataframe tbody tr th {\n",
       "        vertical-align: top;\n",
       "    }\n",
       "\n",
       "    .dataframe thead th {\n",
       "        text-align: right;\n",
       "    }\n",
       "</style>\n",
       "<table border=\"1\" class=\"dataframe\">\n",
       "  <thead>\n",
       "    <tr style=\"text-align: right;\">\n",
       "      <th></th>\n",
       "      <th>id</th>\n",
       "      <th>student_id</th>\n",
       "      <th>course_id</th>\n",
       "      <th>final_grade</th>\n",
       "    </tr>\n",
       "  </thead>\n",
       "  <tbody>\n",
       "    <tr>\n",
       "      <th>625</th>\n",
       "      <td>626</td>\n",
       "      <td>265</td>\n",
       "      <td>32</td>\n",
       "      <td>58.0</td>\n",
       "    </tr>\n",
       "    <tr>\n",
       "      <th>963</th>\n",
       "      <td>964</td>\n",
       "      <td>270</td>\n",
       "      <td>50</td>\n",
       "      <td>75.0</td>\n",
       "    </tr>\n",
       "    <tr>\n",
       "      <th>921</th>\n",
       "      <td>922</td>\n",
       "      <td>445</td>\n",
       "      <td>29</td>\n",
       "      <td>68.0</td>\n",
       "    </tr>\n",
       "    <tr>\n",
       "      <th>345</th>\n",
       "      <td>346</td>\n",
       "      <td>187</td>\n",
       "      <td>38</td>\n",
       "      <td>90.0</td>\n",
       "    </tr>\n",
       "    <tr>\n",
       "      <th>944</th>\n",
       "      <td>945</td>\n",
       "      <td>61</td>\n",
       "      <td>33</td>\n",
       "      <td>78.0</td>\n",
       "    </tr>\n",
       "  </tbody>\n",
       "</table>\n",
       "</div>"
      ],
      "text/plain": [
       "      id  student_id  course_id  final_grade\n",
       "625  626         265         32         58.0\n",
       "963  964         270         50         75.0\n",
       "921  922         445         29         68.0\n",
       "345  346         187         38         90.0\n",
       "944  945          61         33         78.0"
      ]
     },
     "execution_count": 730,
     "metadata": {},
     "output_type": "execute_result"
    }
   ],
   "source": [
    "stu_cour_df = pd.read_csv(r\"studnet_course.csv\")\n",
    "stu_cour_df.sample(5)"
   ]
  },
  {
   "cell_type": "code",
   "execution_count": 731,
   "id": "23713e4d-ca6a-42ed-b0b7-cbcc8afbd181",
   "metadata": {},
   "outputs": [
    {
     "data": {
      "text/html": [
       "<div>\n",
       "<style scoped>\n",
       "    .dataframe tbody tr th:only-of-type {\n",
       "        vertical-align: middle;\n",
       "    }\n",
       "\n",
       "    .dataframe tbody tr th {\n",
       "        vertical-align: top;\n",
       "    }\n",
       "\n",
       "    .dataframe thead th {\n",
       "        text-align: right;\n",
       "    }\n",
       "</style>\n",
       "<table border=\"1\" class=\"dataframe\">\n",
       "  <thead>\n",
       "    <tr style=\"text-align: right;\">\n",
       "      <th></th>\n",
       "      <th>id</th>\n",
       "      <th>first_name</th>\n",
       "      <th>last_name</th>\n",
       "      <th>gender</th>\n",
       "      <th>years_of_experience</th>\n",
       "      <th>salary</th>\n",
       "    </tr>\n",
       "  </thead>\n",
       "  <tbody>\n",
       "    <tr>\n",
       "      <th>10</th>\n",
       "      <td>11</td>\n",
       "      <td>Ammamaria</td>\n",
       "      <td>Claypole</td>\n",
       "      <td>Female</td>\n",
       "      <td>8</td>\n",
       "      <td>32900.0</td>\n",
       "    </tr>\n",
       "    <tr>\n",
       "      <th>12</th>\n",
       "      <td>13</td>\n",
       "      <td>Inessa</td>\n",
       "      <td>Kubas</td>\n",
       "      <td>Female</td>\n",
       "      <td>9</td>\n",
       "      <td>NaN</td>\n",
       "    </tr>\n",
       "    <tr>\n",
       "      <th>30</th>\n",
       "      <td>31</td>\n",
       "      <td>Grantham</td>\n",
       "      <td>Barizeret</td>\n",
       "      <td>Male</td>\n",
       "      <td>3</td>\n",
       "      <td>19600.0</td>\n",
       "    </tr>\n",
       "    <tr>\n",
       "      <th>3</th>\n",
       "      <td>4</td>\n",
       "      <td>Tamarah</td>\n",
       "      <td>Hulcoop</td>\n",
       "      <td>Female</td>\n",
       "      <td>4</td>\n",
       "      <td>21600.0</td>\n",
       "    </tr>\n",
       "    <tr>\n",
       "      <th>34</th>\n",
       "      <td>35</td>\n",
       "      <td>Brock</td>\n",
       "      <td>Webber</td>\n",
       "      <td>Male</td>\n",
       "      <td>4</td>\n",
       "      <td>21600.0</td>\n",
       "    </tr>\n",
       "  </tbody>\n",
       "</table>\n",
       "</div>"
      ],
      "text/plain": [
       "    id first_name  last_name  gender  years_of_experience   salary\n",
       "10  11  Ammamaria   Claypole  Female                    8  32900.0\n",
       "12  13     Inessa      Kubas  Female                    9      NaN\n",
       "30  31   Grantham  Barizeret    Male                    3  19600.0\n",
       "3    4    Tamarah    Hulcoop  Female                    4  21600.0\n",
       "34  35      Brock     Webber    Male                    4  21600.0"
      ]
     },
     "execution_count": 731,
     "metadata": {},
     "output_type": "execute_result"
    }
   ],
   "source": [
    "teachers_df = pd.read_csv(r\"teachers.csv\")\n",
    "teachers_df.sample(5)"
   ]
  },
  {
   "cell_type": "markdown",
   "id": "9d43ab34-f2b7-401b-9ba5-6c9149c640c9",
   "metadata": {},
   "source": [
    "## Data Prep."
   ]
  },
  {
   "cell_type": "markdown",
   "id": "3cd9a9b2-9ef2-4b63-9681-860896ebe034",
   "metadata": {},
   "source": [
    "### Exercise 1.\n",
    "#### a."
   ]
  },
  {
   "cell_type": "code",
   "execution_count": 732,
   "id": "b631274e-c0eb-4f32-a7bc-71fa77613afb",
   "metadata": {},
   "outputs": [
    {
     "name": "stdout",
     "output_type": "stream",
     "text": [
      "      id first_name  last_name  gender   age       city          education  \\\n",
      "15    16    Sheffie     Fullom    Male  41.0      Haifa  Bachelor's degree   \n",
      "26    27   Kaitlynn    Tansley  Female  39.0   Ashkelon       No education   \n",
      "32    33     Wileen     Thirst     NaN  48.0   Ashkelon        High school   \n",
      "38    39       Neil     Lipson    Male  27.0   Ashkelon        High school   \n",
      "65    66     Juieta   Bodycote  Female  37.0   Ashkelon       No education   \n",
      "72    73   Jermaine      Gabey  Female  36.0  Jerusalem  Bachelor's degree   \n",
      "88    89      Danny  Haythorne    Male  42.0   Tel Aviv       No education   \n",
      "90    91    Opaline  Satterlee  Female  34.0   Tel Aviv    Master's degree   \n",
      "205  206      Cesar      Lghan    Male   NaN   Tel Aviv        High school   \n",
      "\n",
      "                     email  \n",
      "15         sfullomf@wp.com  \n",
      "26       ktansleyq@soup.io  \n",
      "32      wthirstw@youku.com  \n",
      "38   nlipson12@foxnews.com  \n",
      "65         sfullomf@wp.com  \n",
      "72       ktansleyq@soup.io  \n",
      "88      wthirstw@youku.com  \n",
      "90   nlipson12@foxnews.com  \n",
      "205        sfullomf@wp.com  \n"
     ]
    }
   ],
   "source": [
    "stu_copy_df = students_df.copy()\n",
    "duplicate_rows = stu_copy_df[stu_copy_df.duplicated(subset='email', keep=False)]\n",
    "print(duplicate_rows)"
   ]
  },
  {
   "cell_type": "markdown",
   "id": "d4a1acb9-20b7-4f03-a426-51fbfee7c86f",
   "metadata": {},
   "source": [
    "https://pandas.pydata.org/docs/reference/api/pandas.DataFrame.duplicated.html"
   ]
  },
  {
   "cell_type": "code",
   "execution_count": 733,
   "id": "a0327018-f094-4dd2-b00d-c9ca3d2c5a69",
   "metadata": {},
   "outputs": [
    {
     "data": {
      "text/html": [
       "<div>\n",
       "<style scoped>\n",
       "    .dataframe tbody tr th:only-of-type {\n",
       "        vertical-align: middle;\n",
       "    }\n",
       "\n",
       "    .dataframe tbody tr th {\n",
       "        vertical-align: top;\n",
       "    }\n",
       "\n",
       "    .dataframe thead th {\n",
       "        text-align: right;\n",
       "    }\n",
       "</style>\n",
       "<table border=\"1\" class=\"dataframe\">\n",
       "  <thead>\n",
       "    <tr style=\"text-align: right;\">\n",
       "      <th></th>\n",
       "      <th>id</th>\n",
       "      <th>first_name</th>\n",
       "      <th>last_name</th>\n",
       "      <th>gender</th>\n",
       "      <th>age</th>\n",
       "      <th>city</th>\n",
       "      <th>education</th>\n",
       "      <th>email</th>\n",
       "      <th>score</th>\n",
       "    </tr>\n",
       "  </thead>\n",
       "  <tbody>\n",
       "    <tr>\n",
       "      <th>315</th>\n",
       "      <td>316</td>\n",
       "      <td>Eziechiele</td>\n",
       "      <td>Roobottom</td>\n",
       "      <td>NaN</td>\n",
       "      <td>34.0</td>\n",
       "      <td>Kfar Saba</td>\n",
       "      <td>High school</td>\n",
       "      <td>eroobottom8r@dell.com</td>\n",
       "      <td>7</td>\n",
       "    </tr>\n",
       "    <tr>\n",
       "      <th>227</th>\n",
       "      <td>228</td>\n",
       "      <td>Conrade</td>\n",
       "      <td>Pawson</td>\n",
       "      <td>Male</td>\n",
       "      <td>12.0</td>\n",
       "      <td>Netanya</td>\n",
       "      <td>Bachelor's degree</td>\n",
       "      <td>cpawson6b@dedecms.com</td>\n",
       "      <td>8</td>\n",
       "    </tr>\n",
       "    <tr>\n",
       "      <th>480</th>\n",
       "      <td>481</td>\n",
       "      <td>Reena</td>\n",
       "      <td>Yarnley</td>\n",
       "      <td>Female</td>\n",
       "      <td>36.0</td>\n",
       "      <td>Bat Yam</td>\n",
       "      <td>No education</td>\n",
       "      <td>ryarnleydc@umn.edu</td>\n",
       "      <td>8</td>\n",
       "    </tr>\n",
       "    <tr>\n",
       "      <th>380</th>\n",
       "      <td>381</td>\n",
       "      <td>Horatio</td>\n",
       "      <td>Goulter</td>\n",
       "      <td>Male</td>\n",
       "      <td>27.0</td>\n",
       "      <td>Ramat Gan</td>\n",
       "      <td>High school</td>\n",
       "      <td>hgoulterak@bbb.org</td>\n",
       "      <td>8</td>\n",
       "    </tr>\n",
       "    <tr>\n",
       "      <th>317</th>\n",
       "      <td>318</td>\n",
       "      <td>Ilyse</td>\n",
       "      <td>Haggas</td>\n",
       "      <td>Female</td>\n",
       "      <td>29.0</td>\n",
       "      <td>Beersheba</td>\n",
       "      <td>High school</td>\n",
       "      <td>ihaggas8t@hibu.com</td>\n",
       "      <td>8</td>\n",
       "    </tr>\n",
       "  </tbody>\n",
       "</table>\n",
       "</div>"
      ],
      "text/plain": [
       "      id  first_name  last_name  gender   age       city          education  \\\n",
       "315  316  Eziechiele  Roobottom     NaN  34.0  Kfar Saba        High school   \n",
       "227  228     Conrade     Pawson    Male  12.0    Netanya  Bachelor's degree   \n",
       "480  481       Reena    Yarnley  Female  36.0    Bat Yam       No education   \n",
       "380  381     Horatio    Goulter    Male  27.0  Ramat Gan        High school   \n",
       "317  318       Ilyse     Haggas  Female  29.0  Beersheba        High school   \n",
       "\n",
       "                     email  score  \n",
       "315  eroobottom8r@dell.com      7  \n",
       "227  cpawson6b@dedecms.com      8  \n",
       "480     ryarnleydc@umn.edu      8  \n",
       "380     hgoulterak@bbb.org      8  \n",
       "317     ihaggas8t@hibu.com      8  "
      ]
     },
     "execution_count": 733,
     "metadata": {},
     "output_type": "execute_result"
    }
   ],
   "source": [
    "stu_copy_df['score'] = students_df.apply(lambda row: row.count(), axis=1)\n",
    "stu_copy_df.sample(5)"
   ]
  },
  {
   "cell_type": "code",
   "execution_count": 734,
   "id": "477d5cc9-7afe-44bf-82f3-0dd44d4dc815",
   "metadata": {},
   "outputs": [
    {
     "data": {
      "text/html": [
       "<div>\n",
       "<style scoped>\n",
       "    .dataframe tbody tr th:only-of-type {\n",
       "        vertical-align: middle;\n",
       "    }\n",
       "\n",
       "    .dataframe tbody tr th {\n",
       "        vertical-align: top;\n",
       "    }\n",
       "\n",
       "    .dataframe thead th {\n",
       "        text-align: right;\n",
       "    }\n",
       "</style>\n",
       "<table border=\"1\" class=\"dataframe\">\n",
       "  <thead>\n",
       "    <tr style=\"text-align: right;\">\n",
       "      <th></th>\n",
       "      <th>id</th>\n",
       "      <th>first_name</th>\n",
       "      <th>last_name</th>\n",
       "      <th>gender</th>\n",
       "      <th>age</th>\n",
       "      <th>city</th>\n",
       "      <th>education</th>\n",
       "      <th>email</th>\n",
       "    </tr>\n",
       "  </thead>\n",
       "  <tbody>\n",
       "    <tr>\n",
       "      <th>292</th>\n",
       "      <td>293</td>\n",
       "      <td>Lief</td>\n",
       "      <td>Brayley</td>\n",
       "      <td>Male</td>\n",
       "      <td>57.0</td>\n",
       "      <td>Jerusalem</td>\n",
       "      <td>Doctoral degree</td>\n",
       "      <td>lbrayley84@baidu.com</td>\n",
       "    </tr>\n",
       "    <tr>\n",
       "      <th>55</th>\n",
       "      <td>56</td>\n",
       "      <td>Sheppard</td>\n",
       "      <td>Le Pruvost</td>\n",
       "      <td>Male</td>\n",
       "      <td>24.0</td>\n",
       "      <td>Ashkelon</td>\n",
       "      <td>No education</td>\n",
       "      <td>slepruvost1j@microsoft.com</td>\n",
       "    </tr>\n",
       "    <tr>\n",
       "      <th>116</th>\n",
       "      <td>117</td>\n",
       "      <td>Suzie</td>\n",
       "      <td>Greendale</td>\n",
       "      <td>Female</td>\n",
       "      <td>26.0</td>\n",
       "      <td>Tel Aviv</td>\n",
       "      <td>High school</td>\n",
       "      <td>sgreendale38@meetup.com</td>\n",
       "    </tr>\n",
       "    <tr>\n",
       "      <th>392</th>\n",
       "      <td>393</td>\n",
       "      <td>Matias</td>\n",
       "      <td>Akid</td>\n",
       "      <td>NaN</td>\n",
       "      <td>42.0</td>\n",
       "      <td>Jerusalem</td>\n",
       "      <td>No education</td>\n",
       "      <td>makidaw@nih.gov</td>\n",
       "    </tr>\n",
       "    <tr>\n",
       "      <th>113</th>\n",
       "      <td>114</td>\n",
       "      <td>Alphonso</td>\n",
       "      <td>Werrit</td>\n",
       "      <td>NaN</td>\n",
       "      <td>37.0</td>\n",
       "      <td>Jerusalem</td>\n",
       "      <td>Bachelor's degree</td>\n",
       "      <td>awerrit35@t-online.de</td>\n",
       "    </tr>\n",
       "  </tbody>\n",
       "</table>\n",
       "</div>"
      ],
      "text/plain": [
       "      id first_name   last_name  gender   age       city          education  \\\n",
       "292  293       Lief     Brayley    Male  57.0  Jerusalem    Doctoral degree   \n",
       "55    56   Sheppard  Le Pruvost    Male  24.0   Ashkelon       No education   \n",
       "116  117      Suzie   Greendale  Female  26.0   Tel Aviv        High school   \n",
       "392  393     Matias        Akid     NaN  42.0  Jerusalem       No education   \n",
       "113  114   Alphonso      Werrit     NaN  37.0  Jerusalem  Bachelor's degree   \n",
       "\n",
       "                          email  \n",
       "292        lbrayley84@baidu.com  \n",
       "55   slepruvost1j@microsoft.com  \n",
       "116     sgreendale38@meetup.com  \n",
       "392             makidaw@nih.gov  \n",
       "113       awerrit35@t-online.de  "
      ]
     },
     "execution_count": 734,
     "metadata": {},
     "output_type": "execute_result"
    }
   ],
   "source": [
    "rm_dup = stu_copy_df.loc[stu_copy_df.groupby('email')['score'].idxmax()].drop(columns=['score'])\n",
    "ids_rm = set(stu_copy_df['id']) - set(rm_dup['id'])\n",
    "rm_dup.sample(5)"
   ]
  },
  {
   "cell_type": "markdown",
   "id": "c80a2b55-6878-4c61-aa5b-79fc5dc22c83",
   "metadata": {},
   "source": [
    "https://pandas.pydata.org/docs/reference/api/pandas.DataFrame.idxmax.html"
   ]
  },
  {
   "cell_type": "code",
   "execution_count": 735,
   "id": "8cb8d123-6998-4635-bc12-e50f034bfa3c",
   "metadata": {},
   "outputs": [
    {
     "name": "stdout",
     "output_type": "stream",
     "text": [
      "Empty DataFrame\n",
      "Columns: [id, first_name, last_name, gender, age, city, education, email]\n",
      "Index: []\n"
     ]
    }
   ],
   "source": [
    "duplicate_rows = rm_dup[rm_dup.duplicated(subset='email', keep=False)]\n",
    "print(duplicate_rows)"
   ]
  },
  {
   "cell_type": "markdown",
   "id": "bcea76b7-1e75-4cca-9db8-e1b4b54de9be",
   "metadata": {},
   "source": [
    "#### No duplicate rows in rm_dup"
   ]
  },
  {
   "cell_type": "markdown",
   "id": "1a024ccc-09ac-4f2c-b292-a416bbd5fbf4",
   "metadata": {},
   "source": [
    "#### b."
   ]
  },
  {
   "cell_type": "markdown",
   "id": "bb010290-da29-40a5-bfd7-5c600d7cc0a3",
   "metadata": {},
   "source": [
    "##### only association is with student courses df"
   ]
  },
  {
   "cell_type": "code",
   "execution_count": 736,
   "id": "3cdc092c-161e-4d9f-9ebd-7e5c62dcc792",
   "metadata": {},
   "outputs": [
    {
     "data": {
      "text/html": [
       "<div>\n",
       "<style scoped>\n",
       "    .dataframe tbody tr th:only-of-type {\n",
       "        vertical-align: middle;\n",
       "    }\n",
       "\n",
       "    .dataframe tbody tr th {\n",
       "        vertical-align: top;\n",
       "    }\n",
       "\n",
       "    .dataframe thead th {\n",
       "        text-align: right;\n",
       "    }\n",
       "</style>\n",
       "<table border=\"1\" class=\"dataframe\">\n",
       "  <thead>\n",
       "    <tr style=\"text-align: right;\">\n",
       "      <th></th>\n",
       "      <th>id</th>\n",
       "      <th>first_name</th>\n",
       "      <th>last_name</th>\n",
       "      <th>gender</th>\n",
       "      <th>age</th>\n",
       "      <th>city</th>\n",
       "      <th>education</th>\n",
       "      <th>email</th>\n",
       "      <th>score</th>\n",
       "    </tr>\n",
       "  </thead>\n",
       "  <tbody>\n",
       "    <tr>\n",
       "      <th>32</th>\n",
       "      <td>33</td>\n",
       "      <td>Wileen</td>\n",
       "      <td>Thirst</td>\n",
       "      <td>NaN</td>\n",
       "      <td>48.0</td>\n",
       "      <td>Ashkelon</td>\n",
       "      <td>High school</td>\n",
       "      <td>wthirstw@youku.com</td>\n",
       "      <td>7</td>\n",
       "    </tr>\n",
       "    <tr>\n",
       "      <th>65</th>\n",
       "      <td>66</td>\n",
       "      <td>Juieta</td>\n",
       "      <td>Bodycote</td>\n",
       "      <td>Female</td>\n",
       "      <td>37.0</td>\n",
       "      <td>Ashkelon</td>\n",
       "      <td>No education</td>\n",
       "      <td>sfullomf@wp.com</td>\n",
       "      <td>8</td>\n",
       "    </tr>\n",
       "    <tr>\n",
       "      <th>72</th>\n",
       "      <td>73</td>\n",
       "      <td>Jermaine</td>\n",
       "      <td>Gabey</td>\n",
       "      <td>Female</td>\n",
       "      <td>36.0</td>\n",
       "      <td>Jerusalem</td>\n",
       "      <td>Bachelor's degree</td>\n",
       "      <td>ktansleyq@soup.io</td>\n",
       "      <td>8</td>\n",
       "    </tr>\n",
       "    <tr>\n",
       "      <th>90</th>\n",
       "      <td>91</td>\n",
       "      <td>Opaline</td>\n",
       "      <td>Satterlee</td>\n",
       "      <td>Female</td>\n",
       "      <td>34.0</td>\n",
       "      <td>Tel Aviv</td>\n",
       "      <td>Master's degree</td>\n",
       "      <td>nlipson12@foxnews.com</td>\n",
       "      <td>8</td>\n",
       "    </tr>\n",
       "    <tr>\n",
       "      <th>205</th>\n",
       "      <td>206</td>\n",
       "      <td>Cesar</td>\n",
       "      <td>Lghan</td>\n",
       "      <td>Male</td>\n",
       "      <td>NaN</td>\n",
       "      <td>Tel Aviv</td>\n",
       "      <td>High school</td>\n",
       "      <td>sfullomf@wp.com</td>\n",
       "      <td>7</td>\n",
       "    </tr>\n",
       "  </tbody>\n",
       "</table>\n",
       "</div>"
      ],
      "text/plain": [
       "      id first_name  last_name  gender   age       city          education  \\\n",
       "32    33     Wileen     Thirst     NaN  48.0   Ashkelon        High school   \n",
       "65    66     Juieta   Bodycote  Female  37.0   Ashkelon       No education   \n",
       "72    73   Jermaine      Gabey  Female  36.0  Jerusalem  Bachelor's degree   \n",
       "90    91    Opaline  Satterlee  Female  34.0   Tel Aviv    Master's degree   \n",
       "205  206      Cesar      Lghan    Male   NaN   Tel Aviv        High school   \n",
       "\n",
       "                     email  score  \n",
       "32      wthirstw@youku.com      7  \n",
       "65         sfullomf@wp.com      8  \n",
       "72       ktansleyq@soup.io      8  \n",
       "90   nlipson12@foxnews.com      8  \n",
       "205        sfullomf@wp.com      7  "
      ]
     },
     "execution_count": 736,
     "metadata": {},
     "output_type": "execute_result"
    }
   ],
   "source": [
    "id_map = stu_copy_df[stu_copy_df['id'].isin(ids_rm)]\n",
    "id_map"
   ]
  },
  {
   "cell_type": "code",
   "execution_count": 737,
   "id": "3e018550-722e-4e0f-8537-a0a993de4590",
   "metadata": {},
   "outputs": [
    {
     "data": {
      "text/plain": [
       "{33: 'wthirstw@youku.com',\n",
       " 66: 'sfullomf@wp.com',\n",
       " 73: 'ktansleyq@soup.io',\n",
       " 91: 'nlipson12@foxnews.com',\n",
       " 206: 'sfullomf@wp.com'}"
      ]
     },
     "execution_count": 737,
     "metadata": {},
     "output_type": "execute_result"
    }
   ],
   "source": [
    "id_map = stu_copy_df[stu_copy_df['id'].isin(ids_rm)].set_index('id')['email'].to_dict()\n",
    "id_map"
   ]
  },
  {
   "cell_type": "code",
   "execution_count": 738,
   "id": "cdf0820b-b7d4-4c67-bc14-549ad250b5e8",
   "metadata": {},
   "outputs": [],
   "source": [
    "retained_ids = rm_dup[['id', 'email']].set_index('email')['id'].to_dict()\n",
    "id_mapping = {old_id: retained_ids[email] for old_id, email in id_map.items()}"
   ]
  },
  {
   "cell_type": "code",
   "execution_count": 739,
   "id": "4325dbb2-af27-49d5-a412-12ea993d8a10",
   "metadata": {},
   "outputs": [
    {
     "data": {
      "text/plain": [
       "{33: 89, 66: 16, 73: 27, 91: 39, 206: 16}"
      ]
     },
     "execution_count": 739,
     "metadata": {},
     "output_type": "execute_result"
    }
   ],
   "source": [
    "id_mapping = {int(k): int(v) for k, v in id_mapping.items()}\n",
    "id_mapping\n"
   ]
  },
  {
   "cell_type": "markdown",
   "id": "392c296a-ce46-4736-a06d-777541618758",
   "metadata": {},
   "source": [
    "https://pandas.pydata.org/pandas-docs/version/1.5/reference/api/pandas.Series.items.html#pandas.Series.items"
   ]
  },
  {
   "cell_type": "code",
   "execution_count": 740,
   "id": "c7125138-1f29-4a60-9ec4-8b676e14d15d",
   "metadata": {},
   "outputs": [
    {
     "data": {
      "text/html": [
       "<div>\n",
       "<style scoped>\n",
       "    .dataframe tbody tr th:only-of-type {\n",
       "        vertical-align: middle;\n",
       "    }\n",
       "\n",
       "    .dataframe tbody tr th {\n",
       "        vertical-align: top;\n",
       "    }\n",
       "\n",
       "    .dataframe thead th {\n",
       "        text-align: right;\n",
       "    }\n",
       "</style>\n",
       "<table border=\"1\" class=\"dataframe\">\n",
       "  <thead>\n",
       "    <tr style=\"text-align: right;\">\n",
       "      <th></th>\n",
       "      <th>id</th>\n",
       "      <th>student_id</th>\n",
       "      <th>course_id</th>\n",
       "      <th>final_grade</th>\n",
       "    </tr>\n",
       "  </thead>\n",
       "  <tbody>\n",
       "    <tr>\n",
       "      <th>489</th>\n",
       "      <td>490</td>\n",
       "      <td>470</td>\n",
       "      <td>18</td>\n",
       "      <td>71.0</td>\n",
       "    </tr>\n",
       "    <tr>\n",
       "      <th>491</th>\n",
       "      <td>492</td>\n",
       "      <td>262</td>\n",
       "      <td>4</td>\n",
       "      <td>59.0</td>\n",
       "    </tr>\n",
       "    <tr>\n",
       "      <th>973</th>\n",
       "      <td>974</td>\n",
       "      <td>494</td>\n",
       "      <td>39</td>\n",
       "      <td>67.0</td>\n",
       "    </tr>\n",
       "    <tr>\n",
       "      <th>876</th>\n",
       "      <td>877</td>\n",
       "      <td>151</td>\n",
       "      <td>4</td>\n",
       "      <td>60.0</td>\n",
       "    </tr>\n",
       "    <tr>\n",
       "      <th>445</th>\n",
       "      <td>446</td>\n",
       "      <td>59</td>\n",
       "      <td>3</td>\n",
       "      <td>56.0</td>\n",
       "    </tr>\n",
       "  </tbody>\n",
       "</table>\n",
       "</div>"
      ],
      "text/plain": [
       "      id  student_id  course_id  final_grade\n",
       "489  490         470         18         71.0\n",
       "491  492         262          4         59.0\n",
       "973  974         494         39         67.0\n",
       "876  877         151          4         60.0\n",
       "445  446          59          3         56.0"
      ]
     },
     "execution_count": 740,
     "metadata": {},
     "output_type": "execute_result"
    }
   ],
   "source": [
    "stu_cour_copy_df = stu_cour_df.copy()\n",
    "stu_cour_copy_df.sample(5)"
   ]
  },
  {
   "cell_type": "code",
   "execution_count": 741,
   "id": "6663c6a2-7b9f-4f25-8e8a-4313b091a1e7",
   "metadata": {},
   "outputs": [
    {
     "data": {
      "text/html": [
       "<div>\n",
       "<style scoped>\n",
       "    .dataframe tbody tr th:only-of-type {\n",
       "        vertical-align: middle;\n",
       "    }\n",
       "\n",
       "    .dataframe tbody tr th {\n",
       "        vertical-align: top;\n",
       "    }\n",
       "\n",
       "    .dataframe thead th {\n",
       "        text-align: right;\n",
       "    }\n",
       "</style>\n",
       "<table border=\"1\" class=\"dataframe\">\n",
       "  <thead>\n",
       "    <tr style=\"text-align: right;\">\n",
       "      <th></th>\n",
       "      <th>id</th>\n",
       "      <th>student_id</th>\n",
       "      <th>course_id</th>\n",
       "      <th>final_grade</th>\n",
       "    </tr>\n",
       "  </thead>\n",
       "  <tbody>\n",
       "    <tr>\n",
       "      <th>190</th>\n",
       "      <td>191</td>\n",
       "      <td>66</td>\n",
       "      <td>31</td>\n",
       "      <td>83.0</td>\n",
       "    </tr>\n",
       "    <tr>\n",
       "      <th>222</th>\n",
       "      <td>223</td>\n",
       "      <td>33</td>\n",
       "      <td>10</td>\n",
       "      <td>74.0</td>\n",
       "    </tr>\n",
       "    <tr>\n",
       "      <th>265</th>\n",
       "      <td>266</td>\n",
       "      <td>33</td>\n",
       "      <td>31</td>\n",
       "      <td>81.0</td>\n",
       "    </tr>\n",
       "    <tr>\n",
       "      <th>338</th>\n",
       "      <td>339</td>\n",
       "      <td>91</td>\n",
       "      <td>2</td>\n",
       "      <td>77.0</td>\n",
       "    </tr>\n",
       "    <tr>\n",
       "      <th>432</th>\n",
       "      <td>433</td>\n",
       "      <td>206</td>\n",
       "      <td>33</td>\n",
       "      <td>52.0</td>\n",
       "    </tr>\n",
       "    <tr>\n",
       "      <th>583</th>\n",
       "      <td>584</td>\n",
       "      <td>206</td>\n",
       "      <td>7</td>\n",
       "      <td>75.0</td>\n",
       "    </tr>\n",
       "    <tr>\n",
       "      <th>591</th>\n",
       "      <td>592</td>\n",
       "      <td>91</td>\n",
       "      <td>19</td>\n",
       "      <td>61.0</td>\n",
       "    </tr>\n",
       "    <tr>\n",
       "      <th>597</th>\n",
       "      <td>598</td>\n",
       "      <td>73</td>\n",
       "      <td>43</td>\n",
       "      <td>74.0</td>\n",
       "    </tr>\n",
       "    <tr>\n",
       "      <th>606</th>\n",
       "      <td>607</td>\n",
       "      <td>206</td>\n",
       "      <td>43</td>\n",
       "      <td>87.0</td>\n",
       "    </tr>\n",
       "    <tr>\n",
       "      <th>670</th>\n",
       "      <td>671</td>\n",
       "      <td>66</td>\n",
       "      <td>21</td>\n",
       "      <td>75.0</td>\n",
       "    </tr>\n",
       "    <tr>\n",
       "      <th>728</th>\n",
       "      <td>729</td>\n",
       "      <td>33</td>\n",
       "      <td>34</td>\n",
       "      <td>65.0</td>\n",
       "    </tr>\n",
       "    <tr>\n",
       "      <th>753</th>\n",
       "      <td>754</td>\n",
       "      <td>206</td>\n",
       "      <td>20</td>\n",
       "      <td>61.0</td>\n",
       "    </tr>\n",
       "    <tr>\n",
       "      <th>989</th>\n",
       "      <td>990</td>\n",
       "      <td>206</td>\n",
       "      <td>15</td>\n",
       "      <td>70.0</td>\n",
       "    </tr>\n",
       "  </tbody>\n",
       "</table>\n",
       "</div>"
      ],
      "text/plain": [
       "      id  student_id  course_id  final_grade\n",
       "190  191          66         31         83.0\n",
       "222  223          33         10         74.0\n",
       "265  266          33         31         81.0\n",
       "338  339          91          2         77.0\n",
       "432  433         206         33         52.0\n",
       "583  584         206          7         75.0\n",
       "591  592          91         19         61.0\n",
       "597  598          73         43         74.0\n",
       "606  607         206         43         87.0\n",
       "670  671          66         21         75.0\n",
       "728  729          33         34         65.0\n",
       "753  754         206         20         61.0\n",
       "989  990         206         15         70.0"
      ]
     },
     "execution_count": 741,
     "metadata": {},
     "output_type": "execute_result"
    }
   ],
   "source": [
    "stu_cour_copy_df[stu_cour_copy_df['student_id'].isin(ids_rm)]"
   ]
  },
  {
   "cell_type": "raw",
   "id": "20451103-d9ce-4bf0-b610-2f626a9eb067",
   "metadata": {},
   "source": [
    "stu_cour_copy_df.info()"
   ]
  },
  {
   "cell_type": "code",
   "execution_count": 742,
   "id": "72468843-f509-4c25-bcf5-b9e4cbd09fd1",
   "metadata": {},
   "outputs": [],
   "source": [
    "# stu_cour_copy_df['student_id'] = stu_cour_copy_df['student_id'].apply(lambda student_id: id_mapping[student_id] if student_id in ids_rm else student_id)\n",
    "# did not work\n",
    "\n",
    "# stu_cour_copy_df['student_id'] = stu_cour_copy_df.replace(id_mapping)\n",
    "# did not work\n",
    "\n",
    "for key in id_mapping.keys():\n",
    "    stu_cour_copy_df.loc[stu_cour_copy_df['student_id'] == key, 'student_id'] = id_mapping[key]\n"
   ]
  },
  {
   "cell_type": "code",
   "execution_count": 743,
   "id": "8ce21eb6-2603-4a32-961b-e5cc0fe9e248",
   "metadata": {},
   "outputs": [
    {
     "data": {
      "text/html": [
       "<div>\n",
       "<style scoped>\n",
       "    .dataframe tbody tr th:only-of-type {\n",
       "        vertical-align: middle;\n",
       "    }\n",
       "\n",
       "    .dataframe tbody tr th {\n",
       "        vertical-align: top;\n",
       "    }\n",
       "\n",
       "    .dataframe thead th {\n",
       "        text-align: right;\n",
       "    }\n",
       "</style>\n",
       "<table border=\"1\" class=\"dataframe\">\n",
       "  <thead>\n",
       "    <tr style=\"text-align: right;\">\n",
       "      <th></th>\n",
       "      <th>id</th>\n",
       "      <th>student_id</th>\n",
       "      <th>course_id</th>\n",
       "      <th>final_grade</th>\n",
       "    </tr>\n",
       "  </thead>\n",
       "  <tbody>\n",
       "  </tbody>\n",
       "</table>\n",
       "</div>"
      ],
      "text/plain": [
       "Empty DataFrame\n",
       "Columns: [id, student_id, course_id, final_grade]\n",
       "Index: []"
      ]
     },
     "execution_count": 743,
     "metadata": {},
     "output_type": "execute_result"
    }
   ],
   "source": [
    "stu_cour_copy_df[stu_cour_copy_df['student_id'].isin(ids_rm)]"
   ]
  },
  {
   "cell_type": "markdown",
   "id": "1b6defc2-6870-4ff5-a406-0167a9e44ded",
   "metadata": {},
   "source": [
    "### Exercise 2."
   ]
  },
  {
   "cell_type": "markdown",
   "id": "f87bad1c-9e5b-4f0d-8cce-11ef792d7d9c",
   "metadata": {},
   "source": [
    "Student df"
   ]
  },
  {
   "cell_type": "code",
   "execution_count": 744,
   "id": "453fc582-cd60-4def-9ba3-43ffd08c7872",
   "metadata": {},
   "outputs": [
    {
     "name": "stdout",
     "output_type": "stream",
     "text": [
      "<class 'pandas.core.frame.DataFrame'>\n",
      "RangeIndex: 500 entries, 0 to 499\n",
      "Data columns (total 9 columns):\n",
      " #   Column      Non-Null Count  Dtype  \n",
      "---  ------      --------------  -----  \n",
      " 0   id          500 non-null    int64  \n",
      " 1   first_name  500 non-null    object \n",
      " 2   last_name   500 non-null    object \n",
      " 3   gender      435 non-null    object \n",
      " 4   age         471 non-null    float64\n",
      " 5   city        500 non-null    object \n",
      " 6   education   500 non-null    object \n",
      " 7   email       500 non-null    object \n",
      " 8   score       500 non-null    int64  \n",
      "dtypes: float64(1), int64(2), object(6)\n",
      "memory usage: 35.3+ KB\n"
     ]
    }
   ],
   "source": [
    "stu_copy_df.info()"
   ]
  },
  {
   "cell_type": "code",
   "execution_count": 745,
   "id": "339dab53-1e71-4d94-863f-31f949e37013",
   "metadata": {},
   "outputs": [
    {
     "name": "stdout",
     "output_type": "stream",
     "text": [
      "Gender missing values 13.0%\n",
      "Age missing values 5.800000000000001%\n"
     ]
    }
   ],
   "source": [
    "gender_nan = stu_copy_df['gender'].isnull().sum() \n",
    "print(f\"Gender missing values {(gender_nan/stu_copy_df.shape[0])*100}%\")\n",
    "\n",
    "age_nan = stu_copy_df['age'].isnull().sum() \n",
    "print(f\"Age missing values {(age_nan/stu_copy_df.shape[0])*100}%\")\n",
    "\n"
   ]
  },
  {
   "cell_type": "code",
   "execution_count": 746,
   "id": "472acb80-8ac1-4d42-87b8-d02751070d26",
   "metadata": {},
   "outputs": [
    {
     "data": {
      "text/plain": [
       "count    471.000000\n",
       "mean      34.713376\n",
       "std       10.094480\n",
       "min        4.000000\n",
       "25%       28.000000\n",
       "50%       34.000000\n",
       "75%       41.500000\n",
       "max       61.000000\n",
       "Name: age, dtype: float64"
      ]
     },
     "execution_count": 746,
     "metadata": {},
     "output_type": "execute_result"
    }
   ],
   "source": [
    "stu_copy_df['age'].describe()"
   ]
  },
  {
   "cell_type": "markdown",
   "id": "8f18247f-7672-46bc-90ba-dfd4e7145ad6",
   "metadata": {},
   "source": [
    "Gender cant be filled by mean or median, but is 13% missing, it is left as nan.\n",
    "\n",
    "Age mean and median both colse to 34, I chose to use median."
   ]
  },
  {
   "cell_type": "code",
   "execution_count": 747,
   "id": "3f3fe763-466c-4687-9906-b881844787aa",
   "metadata": {},
   "outputs": [],
   "source": [
    "stu_copy_df['age'] = stu_copy_df['age'].fillna(stu_copy_df['age'].median())"
   ]
  },
  {
   "cell_type": "code",
   "execution_count": 748,
   "id": "c93209c9-355f-4f1a-a403-1131bcb0e9de",
   "metadata": {},
   "outputs": [
    {
     "name": "stdout",
     "output_type": "stream",
     "text": [
      "<class 'pandas.core.frame.DataFrame'>\n",
      "RangeIndex: 500 entries, 0 to 499\n",
      "Data columns (total 9 columns):\n",
      " #   Column      Non-Null Count  Dtype  \n",
      "---  ------      --------------  -----  \n",
      " 0   id          500 non-null    int64  \n",
      " 1   first_name  500 non-null    object \n",
      " 2   last_name   500 non-null    object \n",
      " 3   gender      435 non-null    object \n",
      " 4   age         500 non-null    float64\n",
      " 5   city        500 non-null    object \n",
      " 6   education   500 non-null    object \n",
      " 7   email       500 non-null    object \n",
      " 8   score       500 non-null    int64  \n",
      "dtypes: float64(1), int64(2), object(6)\n",
      "memory usage: 35.3+ KB\n"
     ]
    }
   ],
   "source": [
    "stu_copy_df.info()"
   ]
  },
  {
   "cell_type": "markdown",
   "id": "5327001f-e9af-47b1-a767-f22ee8e8d76a",
   "metadata": {},
   "source": [
    "Student_Course df"
   ]
  },
  {
   "cell_type": "code",
   "execution_count": 749,
   "id": "14009669-8c52-49cf-91c4-4ea77fb39ecb",
   "metadata": {},
   "outputs": [
    {
     "name": "stdout",
     "output_type": "stream",
     "text": [
      "<class 'pandas.core.frame.DataFrame'>\n",
      "RangeIndex: 1000 entries, 0 to 999\n",
      "Data columns (total 4 columns):\n",
      " #   Column       Non-Null Count  Dtype  \n",
      "---  ------       --------------  -----  \n",
      " 0   id           1000 non-null   int64  \n",
      " 1   student_id   1000 non-null   int64  \n",
      " 2   course_id    1000 non-null   int64  \n",
      " 3   final_grade  938 non-null    float64\n",
      "dtypes: float64(1), int64(3)\n",
      "memory usage: 31.4 KB\n"
     ]
    }
   ],
   "source": [
    "stu_cour_copy_df.info()"
   ]
  },
  {
   "cell_type": "code",
   "execution_count": 750,
   "id": "497aac89-2e11-4d7e-8b02-4ff842c0f5b4",
   "metadata": {},
   "outputs": [
    {
     "name": "stdout",
     "output_type": "stream",
     "text": [
      "Grade missing values 6.2%\n"
     ]
    }
   ],
   "source": [
    "grade_nan = stu_cour_copy_df['final_grade'].isnull().sum() \n",
    "print(f\"Grade missing values {(grade_nan/stu_cour_copy_df.shape[0])*100}%\")\n"
   ]
  },
  {
   "cell_type": "code",
   "execution_count": 751,
   "id": "cf1ec60f-fbf2-4432-9e7a-79ed9e8203d1",
   "metadata": {},
   "outputs": [
    {
     "data": {
      "text/plain": [
       "count    938.000000\n",
       "mean      69.700426\n",
       "std        9.920539\n",
       "min       40.000000\n",
       "25%       63.000000\n",
       "50%       70.000000\n",
       "75%       76.000000\n",
       "max      107.000000\n",
       "Name: final_grade, dtype: float64"
      ]
     },
     "execution_count": 751,
     "metadata": {},
     "output_type": "execute_result"
    }
   ],
   "source": [
    "stu_cour_copy_df['final_grade'].describe()"
   ]
  },
  {
   "cell_type": "code",
   "execution_count": 752,
   "id": "c200e077-a6a1-484f-b5e2-13bcb74d0deb",
   "metadata": {},
   "outputs": [],
   "source": [
    "stu_cour_copy_df['final_grade'] = stu_cour_copy_df['final_grade'].fillna(stu_cour_copy_df['final_grade'].median())"
   ]
  },
  {
   "cell_type": "code",
   "execution_count": 753,
   "id": "9f05a6e9-b3ea-4a62-9481-def3e83dfd9f",
   "metadata": {},
   "outputs": [
    {
     "name": "stdout",
     "output_type": "stream",
     "text": [
      "<class 'pandas.core.frame.DataFrame'>\n",
      "RangeIndex: 1000 entries, 0 to 999\n",
      "Data columns (total 4 columns):\n",
      " #   Column       Non-Null Count  Dtype  \n",
      "---  ------       --------------  -----  \n",
      " 0   id           1000 non-null   int64  \n",
      " 1   student_id   1000 non-null   int64  \n",
      " 2   course_id    1000 non-null   int64  \n",
      " 3   final_grade  1000 non-null   float64\n",
      "dtypes: float64(1), int64(3)\n",
      "memory usage: 31.4 KB\n"
     ]
    }
   ],
   "source": [
    "stu_cour_copy_df.info()"
   ]
  },
  {
   "cell_type": "markdown",
   "id": "5f302efe-39c8-4d18-a7c0-92fece731a6d",
   "metadata": {},
   "source": [
    "Courses df"
   ]
  },
  {
   "cell_type": "code",
   "execution_count": 754,
   "id": "30f2c648-22f1-4305-a5a1-7897ab4518cd",
   "metadata": {},
   "outputs": [
    {
     "data": {
      "text/html": [
       "<div>\n",
       "<style scoped>\n",
       "    .dataframe tbody tr th:only-of-type {\n",
       "        vertical-align: middle;\n",
       "    }\n",
       "\n",
       "    .dataframe tbody tr th {\n",
       "        vertical-align: top;\n",
       "    }\n",
       "\n",
       "    .dataframe thead th {\n",
       "        text-align: right;\n",
       "    }\n",
       "</style>\n",
       "<table border=\"1\" class=\"dataframe\">\n",
       "  <thead>\n",
       "    <tr style=\"text-align: right;\">\n",
       "      <th></th>\n",
       "      <th>course_id</th>\n",
       "      <th>course_name</th>\n",
       "      <th>course_category</th>\n",
       "      <th>teacher_id</th>\n",
       "      <th>course_start_date</th>\n",
       "    </tr>\n",
       "  </thead>\n",
       "  <tbody>\n",
       "    <tr>\n",
       "      <th>38</th>\n",
       "      <td>39</td>\n",
       "      <td>DevOps Engineer</td>\n",
       "      <td>Software Development</td>\n",
       "      <td>21.0</td>\n",
       "      <td>2023-04-07</td>\n",
       "    </tr>\n",
       "    <tr>\n",
       "      <th>33</th>\n",
       "      <td>34</td>\n",
       "      <td>Cyber</td>\n",
       "      <td>Data Science &amp; Security</td>\n",
       "      <td>25.0</td>\n",
       "      <td>2023-02-24</td>\n",
       "    </tr>\n",
       "    <tr>\n",
       "      <th>4</th>\n",
       "      <td>5</td>\n",
       "      <td>DevOps Engineer</td>\n",
       "      <td>Software Development</td>\n",
       "      <td>21.0</td>\n",
       "      <td>2023-01-23</td>\n",
       "    </tr>\n",
       "    <tr>\n",
       "      <th>45</th>\n",
       "      <td>46</td>\n",
       "      <td>DevOps Engineer</td>\n",
       "      <td>Software Development</td>\n",
       "      <td>NaN</td>\n",
       "      <td>2023-05-28</td>\n",
       "    </tr>\n",
       "    <tr>\n",
       "      <th>8</th>\n",
       "      <td>9</td>\n",
       "      <td>AI Developer</td>\n",
       "      <td>Software Development</td>\n",
       "      <td>7.0</td>\n",
       "      <td>2023-09-09</td>\n",
       "    </tr>\n",
       "  </tbody>\n",
       "</table>\n",
       "</div>"
      ],
      "text/plain": [
       "    course_id      course_name          course_category  teacher_id  \\\n",
       "38         39  DevOps Engineer     Software Development        21.0   \n",
       "33         34            Cyber  Data Science & Security        25.0   \n",
       "4           5  DevOps Engineer     Software Development        21.0   \n",
       "45         46  DevOps Engineer     Software Development         NaN   \n",
       "8           9     AI Developer     Software Development         7.0   \n",
       "\n",
       "   course_start_date  \n",
       "38        2023-04-07  \n",
       "33        2023-02-24  \n",
       "4         2023-01-23  \n",
       "45        2023-05-28  \n",
       "8         2023-09-09  "
      ]
     },
     "execution_count": 754,
     "metadata": {},
     "output_type": "execute_result"
    }
   ],
   "source": [
    "course_copy = courses_df.copy()\n",
    "course_copy.sample(5)"
   ]
  },
  {
   "cell_type": "code",
   "execution_count": 755,
   "id": "252186b0-6195-4f59-a979-46a560b48625",
   "metadata": {},
   "outputs": [
    {
     "name": "stdout",
     "output_type": "stream",
     "text": [
      "<class 'pandas.core.frame.DataFrame'>\n",
      "RangeIndex: 50 entries, 0 to 49\n",
      "Data columns (total 5 columns):\n",
      " #   Column             Non-Null Count  Dtype  \n",
      "---  ------             --------------  -----  \n",
      " 0   course_id          50 non-null     int64  \n",
      " 1   course_name        50 non-null     object \n",
      " 2   course_category    50 non-null     object \n",
      " 3   teacher_id         45 non-null     float64\n",
      " 4   course_start_date  50 non-null     object \n",
      "dtypes: float64(1), int64(1), object(3)\n",
      "memory usage: 2.1+ KB\n"
     ]
    }
   ],
   "source": [
    "course_copy.info()"
   ]
  },
  {
   "cell_type": "code",
   "execution_count": 756,
   "id": "6502a75c-6ac8-49a3-a920-bdc04405c995",
   "metadata": {},
   "outputs": [
    {
     "name": "stdout",
     "output_type": "stream",
     "text": [
      "Teacher id missing values 10.0%\n"
     ]
    }
   ],
   "source": [
    "teach_nan = course_copy['teacher_id'].isnull().sum() \n",
    "print(f\"Teacher id missing values {(teach_nan/course_copy.shape[0])*100}%\")"
   ]
  },
  {
   "cell_type": "markdown",
   "id": "65e24ac0-b639-4137-9794-7a6e5ea5637d",
   "metadata": {},
   "source": [
    "Teacher id is essential/mandatory so rows should be removed."
   ]
  },
  {
   "cell_type": "code",
   "execution_count": 757,
   "id": "9d4fda01-61fb-43a4-929b-39651e1fe9d4",
   "metadata": {},
   "outputs": [],
   "source": [
    "course_copy = course_copy.dropna()"
   ]
  },
  {
   "cell_type": "code",
   "execution_count": 758,
   "id": "ab275e05-c1d7-421f-9ff6-947dfd911eae",
   "metadata": {},
   "outputs": [
    {
     "name": "stdout",
     "output_type": "stream",
     "text": [
      "<class 'pandas.core.frame.DataFrame'>\n",
      "Index: 45 entries, 0 to 49\n",
      "Data columns (total 5 columns):\n",
      " #   Column             Non-Null Count  Dtype  \n",
      "---  ------             --------------  -----  \n",
      " 0   course_id          45 non-null     int64  \n",
      " 1   course_name        45 non-null     object \n",
      " 2   course_category    45 non-null     object \n",
      " 3   teacher_id         45 non-null     float64\n",
      " 4   course_start_date  45 non-null     object \n",
      "dtypes: float64(1), int64(1), object(3)\n",
      "memory usage: 2.1+ KB\n"
     ]
    }
   ],
   "source": [
    "course_copy.info()"
   ]
  },
  {
   "cell_type": "markdown",
   "id": "8411c9ac-6cd0-498c-8f34-83d7ec48efde",
   "metadata": {},
   "source": [
    "Teacher df"
   ]
  },
  {
   "cell_type": "code",
   "execution_count": 759,
   "id": "b08c51d0-736b-4f36-b0af-49ad1a2813e8",
   "metadata": {},
   "outputs": [
    {
     "data": {
      "text/html": [
       "<div>\n",
       "<style scoped>\n",
       "    .dataframe tbody tr th:only-of-type {\n",
       "        vertical-align: middle;\n",
       "    }\n",
       "\n",
       "    .dataframe tbody tr th {\n",
       "        vertical-align: top;\n",
       "    }\n",
       "\n",
       "    .dataframe thead th {\n",
       "        text-align: right;\n",
       "    }\n",
       "</style>\n",
       "<table border=\"1\" class=\"dataframe\">\n",
       "  <thead>\n",
       "    <tr style=\"text-align: right;\">\n",
       "      <th></th>\n",
       "      <th>id</th>\n",
       "      <th>first_name</th>\n",
       "      <th>last_name</th>\n",
       "      <th>gender</th>\n",
       "      <th>years_of_experience</th>\n",
       "      <th>salary</th>\n",
       "    </tr>\n",
       "  </thead>\n",
       "  <tbody>\n",
       "    <tr>\n",
       "      <th>15</th>\n",
       "      <td>16</td>\n",
       "      <td>Minnie</td>\n",
       "      <td>Tattershall</td>\n",
       "      <td>Female</td>\n",
       "      <td>7</td>\n",
       "      <td>30300.0</td>\n",
       "    </tr>\n",
       "    <tr>\n",
       "      <th>30</th>\n",
       "      <td>31</td>\n",
       "      <td>Grantham</td>\n",
       "      <td>Barizeret</td>\n",
       "      <td>Male</td>\n",
       "      <td>3</td>\n",
       "      <td>19600.0</td>\n",
       "    </tr>\n",
       "    <tr>\n",
       "      <th>12</th>\n",
       "      <td>13</td>\n",
       "      <td>Inessa</td>\n",
       "      <td>Kubas</td>\n",
       "      <td>Female</td>\n",
       "      <td>9</td>\n",
       "      <td>NaN</td>\n",
       "    </tr>\n",
       "    <tr>\n",
       "      <th>3</th>\n",
       "      <td>4</td>\n",
       "      <td>Tamarah</td>\n",
       "      <td>Hulcoop</td>\n",
       "      <td>Female</td>\n",
       "      <td>4</td>\n",
       "      <td>21600.0</td>\n",
       "    </tr>\n",
       "    <tr>\n",
       "      <th>19</th>\n",
       "      <td>20</td>\n",
       "      <td>Gabriello</td>\n",
       "      <td>Jancso</td>\n",
       "      <td>Male</td>\n",
       "      <td>2</td>\n",
       "      <td>16400.0</td>\n",
       "    </tr>\n",
       "  </tbody>\n",
       "</table>\n",
       "</div>"
      ],
      "text/plain": [
       "    id first_name    last_name  gender  years_of_experience   salary\n",
       "15  16     Minnie  Tattershall  Female                    7  30300.0\n",
       "30  31   Grantham    Barizeret    Male                    3  19600.0\n",
       "12  13     Inessa        Kubas  Female                    9      NaN\n",
       "3    4    Tamarah      Hulcoop  Female                    4  21600.0\n",
       "19  20  Gabriello       Jancso    Male                    2  16400.0"
      ]
     },
     "execution_count": 759,
     "metadata": {},
     "output_type": "execute_result"
    }
   ],
   "source": [
    "teach_copy = teachers_df.copy()\n",
    "teach_copy.sample(5)"
   ]
  },
  {
   "cell_type": "code",
   "execution_count": 760,
   "id": "ba340393-381f-4fa3-b466-7db4562d6006",
   "metadata": {},
   "outputs": [
    {
     "name": "stdout",
     "output_type": "stream",
     "text": [
      "<class 'pandas.core.frame.DataFrame'>\n",
      "RangeIndex: 35 entries, 0 to 34\n",
      "Data columns (total 6 columns):\n",
      " #   Column               Non-Null Count  Dtype  \n",
      "---  ------               --------------  -----  \n",
      " 0   id                   35 non-null     int64  \n",
      " 1   first_name           35 non-null     object \n",
      " 2   last_name            35 non-null     object \n",
      " 3   gender               32 non-null     object \n",
      " 4   years_of_experience  35 non-null     int64  \n",
      " 5   salary               32 non-null     float64\n",
      "dtypes: float64(1), int64(2), object(3)\n",
      "memory usage: 1.8+ KB\n"
     ]
    }
   ],
   "source": [
    "teach_copy.info()"
   ]
  },
  {
   "cell_type": "code",
   "execution_count": 761,
   "id": "e1a1e893-5b15-4f10-b219-842ac785cbe6",
   "metadata": {},
   "outputs": [
    {
     "name": "stdout",
     "output_type": "stream",
     "text": [
      "Gender missing values 8.571428571428571%\n",
      "Salary missing values 8.571428571428571%\n"
     ]
    }
   ],
   "source": [
    "gender_nan = teach_copy['gender'].isnull().sum() \n",
    "print(f\"Gender missing values {(gender_nan/teach_copy.shape[0])*100}%\")\n",
    "\n",
    "salary_nan = teach_copy['salary'].isnull().sum() \n",
    "print(f\"Salary missing values {(salary_nan/teach_copy.shape[0])*100}%\")"
   ]
  },
  {
   "cell_type": "code",
   "execution_count": 762,
   "id": "fbe7cb3b-4568-43e3-843d-3812d33fff7a",
   "metadata": {},
   "outputs": [
    {
     "data": {
      "text/plain": [
       "count       32.000000\n",
       "mean     26721.875000\n",
       "std       8784.140194\n",
       "min      12400.000000\n",
       "25%      21400.000000\n",
       "50%      26250.000000\n",
       "75%      34175.000000\n",
       "max      41400.000000\n",
       "Name: salary, dtype: float64"
      ]
     },
     "execution_count": 762,
     "metadata": {},
     "output_type": "execute_result"
    }
   ],
   "source": [
    "teach_copy['salary'].describe()"
   ]
  },
  {
   "cell_type": "markdown",
   "id": "12291560-a3aa-4ff6-bb75-cfd2f7e72176",
   "metadata": {},
   "source": [
    "Gender cant be filled by mean or median, but is 8.57% missing, it is left as nan.\n",
    "\n",
    "Salery mean and median both colse to 26.5K, I chose to use mean."
   ]
  },
  {
   "cell_type": "code",
   "execution_count": 763,
   "id": "f4529e2e-4c93-4ad9-bffa-cd0c288ddc1f",
   "metadata": {},
   "outputs": [],
   "source": [
    "teach_copy['salary'] = teach_copy['salary'].fillna(teach_copy['salary'].mean())"
   ]
  },
  {
   "cell_type": "code",
   "execution_count": 764,
   "id": "f2529872-f4c8-4a17-b414-628f46a039f7",
   "metadata": {},
   "outputs": [
    {
     "name": "stdout",
     "output_type": "stream",
     "text": [
      "<class 'pandas.core.frame.DataFrame'>\n",
      "RangeIndex: 35 entries, 0 to 34\n",
      "Data columns (total 6 columns):\n",
      " #   Column               Non-Null Count  Dtype  \n",
      "---  ------               --------------  -----  \n",
      " 0   id                   35 non-null     int64  \n",
      " 1   first_name           35 non-null     object \n",
      " 2   last_name            35 non-null     object \n",
      " 3   gender               32 non-null     object \n",
      " 4   years_of_experience  35 non-null     int64  \n",
      " 5   salary               35 non-null     float64\n",
      "dtypes: float64(1), int64(2), object(3)\n",
      "memory usage: 1.8+ KB\n"
     ]
    }
   ],
   "source": [
    "teach_copy.info()"
   ]
  },
  {
   "cell_type": "markdown",
   "id": "271bc5e5-1c5b-4ca1-b899-958d6f4a381f",
   "metadata": {},
   "source": [
    "## Data Analysis"
   ]
  },
  {
   "cell_type": "markdown",
   "id": "9973162d-47fb-4d05-bab3-1ed542e4232f",
   "metadata": {},
   "source": [
    "### Exercise 1.\n",
    "#### a."
   ]
  },
  {
   "cell_type": "code",
   "execution_count": 765,
   "id": "51d8ce2f-bebb-4e7a-a55e-9ec1be7907b4",
   "metadata": {},
   "outputs": [
    {
     "data": {
      "text/plain": [
       "gender\n",
       "Male      220\n",
       "Female    215\n",
       "Name: count, dtype: int64"
      ]
     },
     "execution_count": 765,
     "metadata": {},
     "output_type": "execute_result"
    }
   ],
   "source": [
    "bar_data = stu_copy_df['gender'].value_counts()\n",
    "bar_data"
   ]
  },
  {
   "cell_type": "code",
   "execution_count": 766,
   "id": "aafcf7ca-bc10-45e3-a1e5-8f20b13e77a8",
   "metadata": {},
   "outputs": [
    {
     "data": {
      "image/png": "[encoded data removed]",
      "text/plain": [
       "<Figure size 432x288 with 1 Axes>"
      ]
     },
     "metadata": {
      "needs_background": "light"
     },
     "output_type": "display_data"
    }
   ],
   "source": [
    "fig, ax = plt.subplots()\n",
    "\n",
    "bar_labels = ['Male students', 'Female students']\n",
    "bar_colors = ['tab:blue', 'tab:red']\n",
    "\n",
    "ax.bar(bar_data.index, bar_data.values, label=bar_labels, color=bar_colors)\n",
    "\n",
    "ax.set_ylabel('Number of students')\n",
    "ax.set_title('Students by Gender')\n",
    "ax.legend(title='Student gender')\n",
    "\n",
    "plt.show()"
   ]
  },
  {
   "cell_type": "markdown",
   "id": "7d6fa5e6-1c30-4a60-bf9d-f7df0c7bc7da",
   "metadata": {},
   "source": [
    "#### b."
   ]
  },
  {
   "cell_type": "code",
   "execution_count": 767,
   "id": "0a6d828b-13b5-4725-812c-52f2781ef3e5",
   "metadata": {},
   "outputs": [
    {
     "data": {
      "text/plain": [
       "<Axes: xlabel='age', ylabel='Count'>"
      ]
     },
     "execution_count": 767,
     "metadata": {},
     "output_type": "execute_result"
    },
    {
     "data": {
      "image/png": "[encoded data removed]",
      "text/plain": [
       "<Figure size 432x288 with 1 Axes>"
      ]
     },
     "metadata": {
      "needs_background": "light"
     },
     "output_type": "display_data"
    }
   ],
   "source": [
    "sns.histplot(data = stu_copy_df, x = 'age', hue = 'gender', multiple = 'dodge', shrink = .8, binwidth = 3)\n",
    "sns.histplot(data=stu_copy_df, x='age', binwidth=3, color='black', alpha=0.1)"
   ]
  },
  {
   "cell_type": "markdown",
   "id": "b1ea97ed-038f-4628-90ac-004db7341887",
   "metadata": {},
   "source": [
    "https://seaborn.pydata.org/generated/seaborn.histplot.html"
   ]
  },
  {
   "cell_type": "markdown",
   "id": "0cba72bd-84b7-4dde-89c3-9a58616d700f",
   "metadata": {},
   "source": [
    "#### c."
   ]
  },
  {
   "cell_type": "code",
   "execution_count": 768,
   "id": "866d7ead-5951-4f46-b1b6-f6e6c38d8c26",
   "metadata": {},
   "outputs": [
    {
     "data": {
      "text/plain": [
       "city\n",
       "Tel Aviv         113\n",
       "Haifa             94\n",
       "Jerusalem         63\n",
       "Ashkelon          56\n",
       "Ashdod            26\n",
       "Holon             18\n",
       "Netanya           17\n",
       "Beersheba         16\n",
       "Herzliya          16\n",
       "Kfar Saba         16\n",
       "Bnei Brak         15\n",
       "Bat Yam           15\n",
       "Petah Tikva       12\n",
       "Rishon LeZion     12\n",
       "Ramat Gan         11\n",
       "Name: count, dtype: int64"
      ]
     },
     "execution_count": 768,
     "metadata": {},
     "output_type": "execute_result"
    }
   ],
   "source": [
    "cities = stu_copy_df['city'].value_counts()\n",
    "cities"
   ]
  },
  {
   "cell_type": "code",
   "execution_count": 769,
   "id": "a197173e-2462-49fc-b302-ee744339aaae",
   "metadata": {},
   "outputs": [
    {
     "name": "stdout",
     "output_type": "stream",
     "text": [
      "Tel Aviv is the city with the highest number of registered students\n",
      "Ramat Gan is the city with the lowest number of registered students\n"
     ]
    }
   ],
   "source": [
    "print(f'{cities.index[0]} is the city with the highest number of registered students')\n",
    "print(f'{cities.index[cities.size - 1]} is the city with the lowest number of registered students')\n"
   ]
  },
  {
   "cell_type": "markdown",
   "id": "5b59db49-375a-4a07-8f67-99dba4a0a23b",
   "metadata": {},
   "source": [
    "### Exercise 2.\n",
    "#### a."
   ]
  },
  {
   "cell_type": "code",
   "execution_count": 770,
   "id": "39ce1f2e-c527-42d1-b23a-c20b9d043545",
   "metadata": {},
   "outputs": [
    {
     "data": {
      "text/plain": [
       "course_category\n",
       "Software Development           30\n",
       "Data Science & Security         8\n",
       "Product & Business Strategy     7\n",
       "Name: count, dtype: int64"
      ]
     },
     "execution_count": 770,
     "metadata": {},
     "output_type": "execute_result"
    }
   ],
   "source": [
    "catg = course_copy['course_category'].value_counts()\n",
    "catg"
   ]
  },
  {
   "cell_type": "code",
   "execution_count": 771,
   "id": "a5e86461-11a1-4369-8b77-c1804569c768",
   "metadata": {},
   "outputs": [
    {
     "data": {
      "image/png": "[encoded data removed]",
      "text/plain": [
       "<Figure size 720x432 with 1 Axes>"
      ]
     },
     "metadata": {
      "needs_background": "light"
     },
     "output_type": "display_data"
    }
   ],
   "source": [
    "catg_df = catg.reset_index()\n",
    "catg_df.columns = ['Category', 'Value']\n",
    "fig, ax = plt.subplots(figsize=(10, 6))  \n",
    "\n",
    "sns.barplot(data = catg_df, x = 'Category', y = 'Value')\n",
    "plt.tight_layout()"
   ]
  },
  {
   "cell_type": "markdown",
   "id": "4fb6125d-392a-452d-be44-4d856f78c523",
   "metadata": {},
   "source": [
    "#### b."
   ]
  },
  {
   "cell_type": "code",
   "execution_count": 772,
   "id": "6e1f15d8-8085-4c11-942b-595da441ef27",
   "metadata": {},
   "outputs": [
    {
     "data": {
      "text/html": [
       "<div>\n",
       "<style scoped>\n",
       "    .dataframe tbody tr th:only-of-type {\n",
       "        vertical-align: middle;\n",
       "    }\n",
       "\n",
       "    .dataframe tbody tr th {\n",
       "        vertical-align: top;\n",
       "    }\n",
       "\n",
       "    .dataframe thead th {\n",
       "        text-align: right;\n",
       "    }\n",
       "</style>\n",
       "<table border=\"1\" class=\"dataframe\">\n",
       "  <thead>\n",
       "    <tr style=\"text-align: right;\">\n",
       "      <th></th>\n",
       "      <th>course_category</th>\n",
       "      <th>course_name</th>\n",
       "    </tr>\n",
       "  </thead>\n",
       "  <tbody>\n",
       "    <tr>\n",
       "      <th>0</th>\n",
       "      <td>Software Development</td>\n",
       "      <td>Full Stack Developer</td>\n",
       "    </tr>\n",
       "    <tr>\n",
       "      <th>1</th>\n",
       "      <td>Product &amp; Business Strategy</td>\n",
       "      <td>Product Manager</td>\n",
       "    </tr>\n",
       "    <tr>\n",
       "      <th>2</th>\n",
       "      <td>Software Development</td>\n",
       "      <td>AI Developer</td>\n",
       "    </tr>\n",
       "    <tr>\n",
       "      <th>3</th>\n",
       "      <td>Software Development</td>\n",
       "      <td>DevOps Engineer</td>\n",
       "    </tr>\n",
       "    <tr>\n",
       "      <th>4</th>\n",
       "      <td>Data Science &amp; Security</td>\n",
       "      <td>Cyber</td>\n",
       "    </tr>\n",
       "    <tr>\n",
       "      <th>5</th>\n",
       "      <td>Software Development</td>\n",
       "      <td>QA</td>\n",
       "    </tr>\n",
       "  </tbody>\n",
       "</table>\n",
       "</div>"
      ],
      "text/plain": [
       "               course_category           course_name\n",
       "0         Software Development  Full Stack Developer\n",
       "1  Product & Business Strategy       Product Manager\n",
       "2         Software Development          AI Developer\n",
       "3         Software Development       DevOps Engineer\n",
       "4      Data Science & Security                 Cyber\n",
       "5         Software Development                    QA"
      ]
     },
     "execution_count": 772,
     "metadata": {},
     "output_type": "execute_result"
    }
   ],
   "source": [
    "# course_n = course_copy.groupby(['course_category', 'course_name']).count()\n",
    "course_n = course_copy[['course_category', 'course_name']].drop_duplicates().reset_index(drop=True)\n",
    "course_n"
   ]
  },
  {
   "cell_type": "markdown",
   "id": "fdf8d5a2-c055-48a4-a4e3-05b3c5d27a14",
   "metadata": {},
   "source": [
    "#### c."
   ]
  },
  {
   "cell_type": "code",
   "execution_count": 773,
   "id": "cbdd0286-a91c-47dd-ba8c-f5fe66cd66ee",
   "metadata": {},
   "outputs": [
    {
     "data": {
      "text/html": [
       "<div>\n",
       "<style scoped>\n",
       "    .dataframe tbody tr th:only-of-type {\n",
       "        vertical-align: middle;\n",
       "    }\n",
       "\n",
       "    .dataframe tbody tr th {\n",
       "        vertical-align: top;\n",
       "    }\n",
       "\n",
       "    .dataframe thead th {\n",
       "        text-align: right;\n",
       "    }\n",
       "</style>\n",
       "<table border=\"1\" class=\"dataframe\">\n",
       "  <thead>\n",
       "    <tr style=\"text-align: right;\">\n",
       "      <th></th>\n",
       "      <th>course_id</th>\n",
       "      <th>course_name</th>\n",
       "      <th>course_category</th>\n",
       "      <th>teacher_id</th>\n",
       "      <th>course_start_date</th>\n",
       "    </tr>\n",
       "  </thead>\n",
       "  <tbody>\n",
       "    <tr>\n",
       "      <th>33</th>\n",
       "      <td>34</td>\n",
       "      <td>Cyber</td>\n",
       "      <td>Data Science &amp; Security</td>\n",
       "      <td>25.0</td>\n",
       "      <td>2023-02-24</td>\n",
       "    </tr>\n",
       "    <tr>\n",
       "      <th>7</th>\n",
       "      <td>8</td>\n",
       "      <td>AI Developer</td>\n",
       "      <td>Software Development</td>\n",
       "      <td>14.0</td>\n",
       "      <td>2023-03-25</td>\n",
       "    </tr>\n",
       "    <tr>\n",
       "      <th>44</th>\n",
       "      <td>45</td>\n",
       "      <td>AI Developer</td>\n",
       "      <td>Software Development</td>\n",
       "      <td>9.0</td>\n",
       "      <td>2023-06-27</td>\n",
       "    </tr>\n",
       "    <tr>\n",
       "      <th>41</th>\n",
       "      <td>42</td>\n",
       "      <td>Product Manager</td>\n",
       "      <td>Product &amp; Business Strategy</td>\n",
       "      <td>10.0</td>\n",
       "      <td>2023-12-29</td>\n",
       "    </tr>\n",
       "    <tr>\n",
       "      <th>37</th>\n",
       "      <td>38</td>\n",
       "      <td>Cyber</td>\n",
       "      <td>Data Science &amp; Security</td>\n",
       "      <td>9.0</td>\n",
       "      <td>2023-09-30</td>\n",
       "    </tr>\n",
       "  </tbody>\n",
       "</table>\n",
       "</div>"
      ],
      "text/plain": [
       "    course_id      course_name              course_category  teacher_id  \\\n",
       "33         34            Cyber      Data Science & Security        25.0   \n",
       "7           8     AI Developer         Software Development        14.0   \n",
       "44         45     AI Developer         Software Development         9.0   \n",
       "41         42  Product Manager  Product & Business Strategy        10.0   \n",
       "37         38            Cyber      Data Science & Security         9.0   \n",
       "\n",
       "   course_start_date  \n",
       "33        2023-02-24  \n",
       "7         2023-03-25  \n",
       "44        2023-06-27  \n",
       "41        2023-12-29  \n",
       "37        2023-09-30  "
      ]
     },
     "execution_count": 773,
     "metadata": {},
     "output_type": "execute_result"
    }
   ],
   "source": [
    "course_copy.sample(5)"
   ]
  },
  {
   "cell_type": "code",
   "execution_count": 774,
   "id": "77b6a45e-a053-4818-bdde-6e98d8df3773",
   "metadata": {},
   "outputs": [],
   "source": [
    "course_copy['course_start_date'] = pd.to_datetime(course_copy['course_start_date'], format='%Y-%m-%d', errors='coerce')\n",
    "# course_copy.set_index('course_start_date', inplace=True)"
   ]
  },
  {
   "cell_type": "code",
   "execution_count": 775,
   "id": "5c3a3906-dc1c-4ef4-b474-b5b49e293644",
   "metadata": {
    "scrolled": true
   },
   "outputs": [
    {
     "data": {
      "text/html": [
       "<div>\n",
       "<style scoped>\n",
       "    .dataframe tbody tr th:only-of-type {\n",
       "        vertical-align: middle;\n",
       "    }\n",
       "\n",
       "    .dataframe tbody tr th {\n",
       "        vertical-align: top;\n",
       "    }\n",
       "\n",
       "    .dataframe thead th {\n",
       "        text-align: right;\n",
       "    }\n",
       "</style>\n",
       "<table border=\"1\" class=\"dataframe\">\n",
       "  <thead>\n",
       "    <tr style=\"text-align: right;\">\n",
       "      <th></th>\n",
       "      <th>course_id</th>\n",
       "      <th>course_name</th>\n",
       "      <th>course_category</th>\n",
       "      <th>teacher_id</th>\n",
       "      <th>course_start_date</th>\n",
       "    </tr>\n",
       "  </thead>\n",
       "  <tbody>\n",
       "    <tr>\n",
       "      <th>46</th>\n",
       "      <td>47</td>\n",
       "      <td>AI Developer</td>\n",
       "      <td>Software Development</td>\n",
       "      <td>3.0</td>\n",
       "      <td>2023-04-15</td>\n",
       "    </tr>\n",
       "    <tr>\n",
       "      <th>11</th>\n",
       "      <td>12</td>\n",
       "      <td>Cyber</td>\n",
       "      <td>Data Science &amp; Security</td>\n",
       "      <td>20.0</td>\n",
       "      <td>2023-11-07</td>\n",
       "    </tr>\n",
       "    <tr>\n",
       "      <th>14</th>\n",
       "      <td>15</td>\n",
       "      <td>DevOps Engineer</td>\n",
       "      <td>Software Development</td>\n",
       "      <td>17.0</td>\n",
       "      <td>2023-10-11</td>\n",
       "    </tr>\n",
       "    <tr>\n",
       "      <th>7</th>\n",
       "      <td>8</td>\n",
       "      <td>AI Developer</td>\n",
       "      <td>Software Development</td>\n",
       "      <td>14.0</td>\n",
       "      <td>2023-03-25</td>\n",
       "    </tr>\n",
       "    <tr>\n",
       "      <th>23</th>\n",
       "      <td>24</td>\n",
       "      <td>AI Developer</td>\n",
       "      <td>Software Development</td>\n",
       "      <td>18.0</td>\n",
       "      <td>2023-10-11</td>\n",
       "    </tr>\n",
       "  </tbody>\n",
       "</table>\n",
       "</div>"
      ],
      "text/plain": [
       "    course_id      course_name          course_category  teacher_id  \\\n",
       "46         47     AI Developer     Software Development         3.0   \n",
       "11         12            Cyber  Data Science & Security        20.0   \n",
       "14         15  DevOps Engineer     Software Development        17.0   \n",
       "7           8     AI Developer     Software Development        14.0   \n",
       "23         24     AI Developer     Software Development        18.0   \n",
       "\n",
       "   course_start_date  \n",
       "46        2023-04-15  \n",
       "11        2023-11-07  \n",
       "14        2023-10-11  \n",
       "7         2023-03-25  \n",
       "23        2023-10-11  "
      ]
     },
     "execution_count": 775,
     "metadata": {},
     "output_type": "execute_result"
    }
   ],
   "source": [
    "course_copy.sample(5)"
   ]
  },
  {
   "cell_type": "code",
   "execution_count": 776,
   "id": "4b2865da-ab33-4345-8694-049994ed2845",
   "metadata": {},
   "outputs": [
    {
     "name": "stderr",
     "output_type": "stream",
     "text": [
      "/tmp/ipykernel_6103/23629051.py:3: SettingWithCopyWarning: \n",
      "A value is trying to be set on a copy of a slice from a DataFrame.\n",
      "Try using .loc[row_indexer,col_indexer] = value instead\n",
      "\n",
      "See the caveats in the documentation: https://pandas.pydata.org/pandas-docs/stable/user_guide/indexing.html#returning-a-view-versus-a-copy\n",
      "  course_m['course_start_date'] = course_m['course_start_date'].dt.strftime('%Y-%m')\n"
     ]
    },
    {
     "data": {
      "text/html": [
       "<div>\n",
       "<style scoped>\n",
       "    .dataframe tbody tr th:only-of-type {\n",
       "        vertical-align: middle;\n",
       "    }\n",
       "\n",
       "    .dataframe tbody tr th {\n",
       "        vertical-align: top;\n",
       "    }\n",
       "\n",
       "    .dataframe thead th {\n",
       "        text-align: right;\n",
       "    }\n",
       "</style>\n",
       "<table border=\"1\" class=\"dataframe\">\n",
       "  <thead>\n",
       "    <tr style=\"text-align: right;\">\n",
       "      <th></th>\n",
       "      <th>course_start_date</th>\n",
       "      <th>course_name</th>\n",
       "    </tr>\n",
       "  </thead>\n",
       "  <tbody>\n",
       "    <tr>\n",
       "      <th>25</th>\n",
       "      <td>2023-12</td>\n",
       "      <td>Cyber</td>\n",
       "    </tr>\n",
       "    <tr>\n",
       "      <th>40</th>\n",
       "      <td>2023-02</td>\n",
       "      <td>DevOps Engineer</td>\n",
       "    </tr>\n",
       "    <tr>\n",
       "      <th>5</th>\n",
       "      <td>2023-12</td>\n",
       "      <td>AI Developer</td>\n",
       "    </tr>\n",
       "    <tr>\n",
       "      <th>38</th>\n",
       "      <td>2023-04</td>\n",
       "      <td>DevOps Engineer</td>\n",
       "    </tr>\n",
       "    <tr>\n",
       "      <th>36</th>\n",
       "      <td>2023-02</td>\n",
       "      <td>AI Developer</td>\n",
       "    </tr>\n",
       "  </tbody>\n",
       "</table>\n",
       "</div>"
      ],
      "text/plain": [
       "   course_start_date      course_name\n",
       "25           2023-12            Cyber\n",
       "40           2023-02  DevOps Engineer\n",
       "5            2023-12     AI Developer\n",
       "38           2023-04  DevOps Engineer\n",
       "36           2023-02     AI Developer"
      ]
     },
     "execution_count": 776,
     "metadata": {},
     "output_type": "execute_result"
    }
   ],
   "source": [
    "# course_copy.resample(rule='ME').count()['course_name'].value_counts()\n",
    "course_m = course_copy[['course_start_date', 'course_name']]\n",
    "course_m['course_start_date'] = course_m['course_start_date'].dt.strftime('%Y-%m')\n",
    "course_m.sample(5)"
   ]
  },
  {
   "cell_type": "code",
   "execution_count": 777,
   "id": "52bde00e-476f-475d-9f5b-7c0655e88aef",
   "metadata": {},
   "outputs": [
    {
     "data": {
      "text/html": [
       "<div>\n",
       "<style scoped>\n",
       "    .dataframe tbody tr th:only-of-type {\n",
       "        vertical-align: middle;\n",
       "    }\n",
       "\n",
       "    .dataframe tbody tr th {\n",
       "        vertical-align: top;\n",
       "    }\n",
       "\n",
       "    .dataframe thead th {\n",
       "        text-align: right;\n",
       "    }\n",
       "</style>\n",
       "<table border=\"1\" class=\"dataframe\">\n",
       "  <thead>\n",
       "    <tr style=\"text-align: right;\">\n",
       "      <th></th>\n",
       "      <th></th>\n",
       "    </tr>\n",
       "    <tr>\n",
       "      <th>course_start_date</th>\n",
       "      <th>course_name</th>\n",
       "    </tr>\n",
       "  </thead>\n",
       "  <tbody>\n",
       "    <tr>\n",
       "      <th rowspan=\"2\" valign=\"top\">2023-01</th>\n",
       "      <th>DevOps Engineer</th>\n",
       "    </tr>\n",
       "    <tr>\n",
       "      <th>Product Manager</th>\n",
       "    </tr>\n",
       "    <tr>\n",
       "      <th rowspan=\"3\" valign=\"top\">2023-02</th>\n",
       "      <th>AI Developer</th>\n",
       "    </tr>\n",
       "    <tr>\n",
       "      <th>Cyber</th>\n",
       "    </tr>\n",
       "    <tr>\n",
       "      <th>DevOps Engineer</th>\n",
       "    </tr>\n",
       "    <tr>\n",
       "      <th rowspan=\"2\" valign=\"top\">2023-03</th>\n",
       "      <th>AI Developer</th>\n",
       "    </tr>\n",
       "    <tr>\n",
       "      <th>Cyber</th>\n",
       "    </tr>\n",
       "    <tr>\n",
       "      <th rowspan=\"4\" valign=\"top\">2023-04</th>\n",
       "      <th>AI Developer</th>\n",
       "    </tr>\n",
       "    <tr>\n",
       "      <th>DevOps Engineer</th>\n",
       "    </tr>\n",
       "    <tr>\n",
       "      <th>Full Stack Developer</th>\n",
       "    </tr>\n",
       "    <tr>\n",
       "      <th>Product Manager</th>\n",
       "    </tr>\n",
       "    <tr>\n",
       "      <th>2023-05</th>\n",
       "      <th>Cyber</th>\n",
       "    </tr>\n",
       "    <tr>\n",
       "      <th rowspan=\"3\" valign=\"top\">2023-06</th>\n",
       "      <th>AI Developer</th>\n",
       "    </tr>\n",
       "    <tr>\n",
       "      <th>DevOps Engineer</th>\n",
       "    </tr>\n",
       "    <tr>\n",
       "      <th>Product Manager</th>\n",
       "    </tr>\n",
       "    <tr>\n",
       "      <th>2023-08</th>\n",
       "      <th>Full Stack Developer</th>\n",
       "    </tr>\n",
       "    <tr>\n",
       "      <th rowspan=\"3\" valign=\"top\">2023-09</th>\n",
       "      <th>AI Developer</th>\n",
       "    </tr>\n",
       "    <tr>\n",
       "      <th>Cyber</th>\n",
       "    </tr>\n",
       "    <tr>\n",
       "      <th>Full Stack Developer</th>\n",
       "    </tr>\n",
       "    <tr>\n",
       "      <th rowspan=\"5\" valign=\"top\">2023-10</th>\n",
       "      <th>AI Developer</th>\n",
       "    </tr>\n",
       "    <tr>\n",
       "      <th>Cyber</th>\n",
       "    </tr>\n",
       "    <tr>\n",
       "      <th>DevOps Engineer</th>\n",
       "    </tr>\n",
       "    <tr>\n",
       "      <th>Full Stack Developer</th>\n",
       "    </tr>\n",
       "    <tr>\n",
       "      <th>Product Manager</th>\n",
       "    </tr>\n",
       "    <tr>\n",
       "      <th rowspan=\"3\" valign=\"top\">2023-11</th>\n",
       "      <th>AI Developer</th>\n",
       "    </tr>\n",
       "    <tr>\n",
       "      <th>Cyber</th>\n",
       "    </tr>\n",
       "    <tr>\n",
       "      <th>Full Stack Developer</th>\n",
       "    </tr>\n",
       "    <tr>\n",
       "      <th rowspan=\"5\" valign=\"top\">2023-12</th>\n",
       "      <th>AI Developer</th>\n",
       "    </tr>\n",
       "    <tr>\n",
       "      <th>Cyber</th>\n",
       "    </tr>\n",
       "    <tr>\n",
       "      <th>Full Stack Developer</th>\n",
       "    </tr>\n",
       "    <tr>\n",
       "      <th>Product Manager</th>\n",
       "    </tr>\n",
       "    <tr>\n",
       "      <th>QA</th>\n",
       "    </tr>\n",
       "  </tbody>\n",
       "</table>\n",
       "</div>"
      ],
      "text/plain": [
       "Empty DataFrame\n",
       "Columns: []\n",
       "Index: [(2023-01, DevOps Engineer), (2023-01, Product Manager), (2023-02, AI Developer), (2023-02, Cyber), (2023-02, DevOps Engineer), (2023-03, AI Developer), (2023-03, Cyber), (2023-04, AI Developer), (2023-04, DevOps Engineer), (2023-04, Full Stack Developer), (2023-04, Product Manager), (2023-05, Cyber), (2023-06, AI Developer), (2023-06, DevOps Engineer), (2023-06, Product Manager), (2023-08, Full Stack Developer), (2023-09, AI Developer), (2023-09, Cyber), (2023-09, Full Stack Developer), (2023-10, AI Developer), (2023-10, Cyber), (2023-10, DevOps Engineer), (2023-10, Full Stack Developer), (2023-10, Product Manager), (2023-11, AI Developer), (2023-11, Cyber), (2023-11, Full Stack Developer), (2023-12, AI Developer), (2023-12, Cyber), (2023-12, Full Stack Developer), (2023-12, Product Manager), (2023-12, QA)]"
      ]
     },
     "execution_count": 777,
     "metadata": {},
     "output_type": "execute_result"
    }
   ],
   "source": [
    "cur_cnt = course_m.groupby(['course_start_date', 'course_name']).count()\n",
    "cur_cnt"
   ]
  },
  {
   "cell_type": "code",
   "execution_count": 778,
   "id": "43e9d01a-4bb0-4dbd-a5a7-427221141865",
   "metadata": {},
   "outputs": [
    {
     "data": {
      "text/plain": [
       "course_start_date\n",
       "2023-01    2\n",
       "2023-02    3\n",
       "2023-03    2\n",
       "2023-04    4\n",
       "2023-05    1\n",
       "2023-06    3\n",
       "2023-08    1\n",
       "2023-09    3\n",
       "2023-10    5\n",
       "2023-11    3\n",
       "2023-12    5\n",
       "Name: count, dtype: int64"
      ]
     },
     "execution_count": 778,
     "metadata": {},
     "output_type": "execute_result"
    }
   ],
   "source": [
    "cur_cnt.groupby(['course_start_date']).value_counts()"
   ]
  },
  {
   "cell_type": "code",
   "execution_count": 779,
   "id": "dc96abaa-c804-44c3-b721-c0897a80dbdf",
   "metadata": {},
   "outputs": [
    {
     "data": {
      "text/html": [
       "<div>\n",
       "<style scoped>\n",
       "    .dataframe tbody tr th:only-of-type {\n",
       "        vertical-align: middle;\n",
       "    }\n",
       "\n",
       "    .dataframe tbody tr th {\n",
       "        vertical-align: top;\n",
       "    }\n",
       "\n",
       "    .dataframe thead th {\n",
       "        text-align: right;\n",
       "    }\n",
       "</style>\n",
       "<table border=\"1\" class=\"dataframe\">\n",
       "  <thead>\n",
       "    <tr style=\"text-align: right;\">\n",
       "      <th></th>\n",
       "      <th>Month</th>\n",
       "      <th>Course_count</th>\n",
       "    </tr>\n",
       "  </thead>\n",
       "  <tbody>\n",
       "    <tr>\n",
       "      <th>0</th>\n",
       "      <td>2023-01</td>\n",
       "      <td>2</td>\n",
       "    </tr>\n",
       "    <tr>\n",
       "      <th>1</th>\n",
       "      <td>2023-02</td>\n",
       "      <td>3</td>\n",
       "    </tr>\n",
       "    <tr>\n",
       "      <th>2</th>\n",
       "      <td>2023-03</td>\n",
       "      <td>2</td>\n",
       "    </tr>\n",
       "    <tr>\n",
       "      <th>3</th>\n",
       "      <td>2023-04</td>\n",
       "      <td>4</td>\n",
       "    </tr>\n",
       "    <tr>\n",
       "      <th>4</th>\n",
       "      <td>2023-05</td>\n",
       "      <td>1</td>\n",
       "    </tr>\n",
       "    <tr>\n",
       "      <th>5</th>\n",
       "      <td>2023-06</td>\n",
       "      <td>3</td>\n",
       "    </tr>\n",
       "    <tr>\n",
       "      <th>6</th>\n",
       "      <td>2023-08</td>\n",
       "      <td>1</td>\n",
       "    </tr>\n",
       "    <tr>\n",
       "      <th>7</th>\n",
       "      <td>2023-09</td>\n",
       "      <td>3</td>\n",
       "    </tr>\n",
       "    <tr>\n",
       "      <th>8</th>\n",
       "      <td>2023-10</td>\n",
       "      <td>5</td>\n",
       "    </tr>\n",
       "    <tr>\n",
       "      <th>9</th>\n",
       "      <td>2023-11</td>\n",
       "      <td>3</td>\n",
       "    </tr>\n",
       "    <tr>\n",
       "      <th>10</th>\n",
       "      <td>2023-12</td>\n",
       "      <td>5</td>\n",
       "    </tr>\n",
       "  </tbody>\n",
       "</table>\n",
       "</div>"
      ],
      "text/plain": [
       "      Month  Course_count\n",
       "0   2023-01             2\n",
       "1   2023-02             3\n",
       "2   2023-03             2\n",
       "3   2023-04             4\n",
       "4   2023-05             1\n",
       "5   2023-06             3\n",
       "6   2023-08             1\n",
       "7   2023-09             3\n",
       "8   2023-10             5\n",
       "9   2023-11             3\n",
       "10  2023-12             5"
      ]
     },
     "execution_count": 779,
     "metadata": {},
     "output_type": "execute_result"
    }
   ],
   "source": [
    "line_df = cur_cnt.groupby(['course_start_date']).value_counts().reset_index()\n",
    "line_df.columns = ['Month', 'Course_count']\n",
    "line_df"
   ]
  },
  {
   "cell_type": "markdown",
   "id": "a8b21d02-1c4b-4037-84c2-36697455282c",
   "metadata": {},
   "source": [
    "#### d."
   ]
  },
  {
   "cell_type": "code",
   "execution_count": 780,
   "id": "84c28f2f-a8f1-4a5d-98ab-e20a9133d0a1",
   "metadata": {},
   "outputs": [
    {
     "data": {
      "image/png": "[encoded data removed]",
      "text/plain": [
       "<Figure size 720x432 with 1 Axes>"
      ]
     },
     "metadata": {
      "needs_background": "light"
     },
     "output_type": "display_data"
    }
   ],
   "source": [
    "fig, ax = plt.subplots(figsize=(10, 6))  \n",
    "sns.lineplot(data=line_df, x='Month', y='Course_count')\n",
    "plt.tight_layout()"
   ]
  },
  {
   "cell_type": "markdown",
   "id": "88a77276-43a0-4165-ab4b-75b7ad178223",
   "metadata": {},
   "source": [
    "### Exercise 3.\n",
    "#### a."
   ]
  },
  {
   "cell_type": "code",
   "execution_count": 781,
   "id": "a74922de-fa2f-4662-a5fa-685695e059e6",
   "metadata": {},
   "outputs": [
    {
     "data": {
      "text/html": [
       "<div>\n",
       "<style scoped>\n",
       "    .dataframe tbody tr th:only-of-type {\n",
       "        vertical-align: middle;\n",
       "    }\n",
       "\n",
       "    .dataframe tbody tr th {\n",
       "        vertical-align: top;\n",
       "    }\n",
       "\n",
       "    .dataframe thead th {\n",
       "        text-align: right;\n",
       "    }\n",
       "</style>\n",
       "<table border=\"1\" class=\"dataframe\">\n",
       "  <thead>\n",
       "    <tr style=\"text-align: right;\">\n",
       "      <th></th>\n",
       "      <th>id</th>\n",
       "      <th>first_name</th>\n",
       "      <th>last_name</th>\n",
       "      <th>gender</th>\n",
       "      <th>years_of_experience</th>\n",
       "      <th>salary</th>\n",
       "    </tr>\n",
       "  </thead>\n",
       "  <tbody>\n",
       "    <tr>\n",
       "      <th>16</th>\n",
       "      <td>17</td>\n",
       "      <td>Jo-anne</td>\n",
       "      <td>Bagehot</td>\n",
       "      <td>Female</td>\n",
       "      <td>8</td>\n",
       "      <td>35000.0</td>\n",
       "    </tr>\n",
       "    <tr>\n",
       "      <th>31</th>\n",
       "      <td>32</td>\n",
       "      <td>Rodger</td>\n",
       "      <td>Bratley</td>\n",
       "      <td>Male</td>\n",
       "      <td>4</td>\n",
       "      <td>21800.0</td>\n",
       "    </tr>\n",
       "    <tr>\n",
       "      <th>1</th>\n",
       "      <td>2</td>\n",
       "      <td>Arty</td>\n",
       "      <td>Noonan</td>\n",
       "      <td>Male</td>\n",
       "      <td>1</td>\n",
       "      <td>12600.0</td>\n",
       "    </tr>\n",
       "    <tr>\n",
       "      <th>4</th>\n",
       "      <td>5</td>\n",
       "      <td>Kennett</td>\n",
       "      <td>Bugdale</td>\n",
       "      <td>Male</td>\n",
       "      <td>8</td>\n",
       "      <td>33900.0</td>\n",
       "    </tr>\n",
       "    <tr>\n",
       "      <th>7</th>\n",
       "      <td>8</td>\n",
       "      <td>Theodoric</td>\n",
       "      <td>Ewles</td>\n",
       "      <td>NaN</td>\n",
       "      <td>6</td>\n",
       "      <td>27500.0</td>\n",
       "    </tr>\n",
       "  </tbody>\n",
       "</table>\n",
       "</div>"
      ],
      "text/plain": [
       "    id first_name last_name  gender  years_of_experience   salary\n",
       "16  17    Jo-anne   Bagehot  Female                    8  35000.0\n",
       "31  32     Rodger   Bratley    Male                    4  21800.0\n",
       "1    2       Arty    Noonan    Male                    1  12600.0\n",
       "4    5    Kennett   Bugdale    Male                    8  33900.0\n",
       "7    8  Theodoric     Ewles     NaN                    6  27500.0"
      ]
     },
     "execution_count": 781,
     "metadata": {},
     "output_type": "execute_result"
    }
   ],
   "source": [
    "teach_copy.sample(5)"
   ]
  },
  {
   "cell_type": "code",
   "execution_count": 782,
   "id": "15259ec7-e220-45e4-b4cf-cea9e472f887",
   "metadata": {},
   "outputs": [
    {
     "data": {
      "text/plain": [
       "count       35.000000\n",
       "mean     26721.875000\n",
       "std       8387.656701\n",
       "min      12400.000000\n",
       "25%      21600.000000\n",
       "50%      26721.875000\n",
       "75%      33750.000000\n",
       "max      41400.000000\n",
       "Name: salary, dtype: float64"
      ]
     },
     "execution_count": 782,
     "metadata": {},
     "output_type": "execute_result"
    }
   ],
   "source": [
    "teach_copy['salary'].describe()"
   ]
  },
  {
   "cell_type": "markdown",
   "id": "1d89e9a4-e978-4df5-a750-ab0cc8ba2fc9",
   "metadata": {},
   "source": [
    "The Mean and Median selary values for a teacher are 26721.875"
   ]
  },
  {
   "cell_type": "markdown",
   "id": "15db949b-6ace-49f0-bec3-df4e04b557c5",
   "metadata": {},
   "source": [
    "#### b."
   ]
  },
  {
   "cell_type": "code",
   "execution_count": 783,
   "id": "16cd40de-98fc-42f7-8411-a6e609b6c9f7",
   "metadata": {},
   "outputs": [
    {
     "data": {
      "text/plain": [
       "<Axes: xlabel='years_of_experience', ylabel='salary'>"
      ]
     },
     "execution_count": 783,
     "metadata": {},
     "output_type": "execute_result"
    },
    {
     "data": {
      "image/png": "[encoded data removed]",
      "text/plain": [
       "<Figure size 432x288 with 1 Axes>"
      ]
     },
     "metadata": {
      "needs_background": "light"
     },
     "output_type": "display_data"
    }
   ],
   "source": [
    "sns.scatterplot(data = teach_copy, x = 'years_of_experience', y = 'salary')"
   ]
  },
  {
   "cell_type": "markdown",
   "id": "f94beb89-4c2b-44f4-b3f5-5dba6621cb84",
   "metadata": {},
   "source": [
    "The chart shows corelation, but I want to be sure.\n",
    "\n",
    "https://pandas.pydata.org/docs/reference/api/pandas.DataFrame.corr.html"
   ]
  },
  {
   "cell_type": "code",
   "execution_count": 784,
   "id": "7969adf6-7a80-4c6a-b147-10a2e2cd7690",
   "metadata": {},
   "outputs": [
    {
     "data": {
      "text/html": [
       "<div>\n",
       "<style scoped>\n",
       "    .dataframe tbody tr th:only-of-type {\n",
       "        vertical-align: middle;\n",
       "    }\n",
       "\n",
       "    .dataframe tbody tr th {\n",
       "        vertical-align: top;\n",
       "    }\n",
       "\n",
       "    .dataframe thead th {\n",
       "        text-align: right;\n",
       "    }\n",
       "</style>\n",
       "<table border=\"1\" class=\"dataframe\">\n",
       "  <thead>\n",
       "    <tr style=\"text-align: right;\">\n",
       "      <th></th>\n",
       "      <th>years_of_experience</th>\n",
       "      <th>salary</th>\n",
       "    </tr>\n",
       "  </thead>\n",
       "  <tbody>\n",
       "    <tr>\n",
       "      <th>years_of_experience</th>\n",
       "      <td>1.000000</td>\n",
       "      <td>0.957471</td>\n",
       "    </tr>\n",
       "    <tr>\n",
       "      <th>salary</th>\n",
       "      <td>0.957471</td>\n",
       "      <td>1.000000</td>\n",
       "    </tr>\n",
       "  </tbody>\n",
       "</table>\n",
       "</div>"
      ],
      "text/plain": [
       "                     years_of_experience    salary\n",
       "years_of_experience             1.000000  0.957471\n",
       "salary                          0.957471  1.000000"
      ]
     },
     "execution_count": 784,
     "metadata": {},
     "output_type": "execute_result"
    }
   ],
   "source": [
    "teach_copy[['years_of_experience', 'salary']].corr()"
   ]
  },
  {
   "cell_type": "markdown",
   "id": "10df9470-cd9b-487c-b3d5-5658def2cc65",
   "metadata": {},
   "source": [
    "#### Correlation close to 1 very high correlation."
   ]
  },
  {
   "cell_type": "markdown",
   "id": "fa47268d-0a8f-4123-bd8f-7224f022a660",
   "metadata": {},
   "source": [
    "### Exercise 4.\n",
    "#### a."
   ]
  },
  {
   "cell_type": "code",
   "execution_count": 785,
   "id": "5c68a017-bcad-49d6-bcfb-ffbc42228787",
   "metadata": {},
   "outputs": [
    {
     "data": {
      "text/html": [
       "<div>\n",
       "<style scoped>\n",
       "    .dataframe tbody tr th:only-of-type {\n",
       "        vertical-align: middle;\n",
       "    }\n",
       "\n",
       "    .dataframe tbody tr th {\n",
       "        vertical-align: top;\n",
       "    }\n",
       "\n",
       "    .dataframe thead th {\n",
       "        text-align: right;\n",
       "    }\n",
       "</style>\n",
       "<table border=\"1\" class=\"dataframe\">\n",
       "  <thead>\n",
       "    <tr style=\"text-align: right;\">\n",
       "      <th></th>\n",
       "      <th>id</th>\n",
       "      <th>first_name</th>\n",
       "      <th>last_name</th>\n",
       "      <th>gender</th>\n",
       "      <th>years_of_experience</th>\n",
       "      <th>salary</th>\n",
       "    </tr>\n",
       "  </thead>\n",
       "  <tbody>\n",
       "    <tr>\n",
       "      <th>18</th>\n",
       "      <td>19</td>\n",
       "      <td>Ida</td>\n",
       "      <td>Conibear</td>\n",
       "      <td>Female</td>\n",
       "      <td>9</td>\n",
       "      <td>37200.000</td>\n",
       "    </tr>\n",
       "    <tr>\n",
       "      <th>13</th>\n",
       "      <td>14</td>\n",
       "      <td>Kimberli</td>\n",
       "      <td>Tonsley</td>\n",
       "      <td>Female</td>\n",
       "      <td>9</td>\n",
       "      <td>35800.000</td>\n",
       "    </tr>\n",
       "    <tr>\n",
       "      <th>8</th>\n",
       "      <td>9</td>\n",
       "      <td>Mona</td>\n",
       "      <td>Hallihan</td>\n",
       "      <td>Female</td>\n",
       "      <td>3</td>\n",
       "      <td>26721.875</td>\n",
       "    </tr>\n",
       "    <tr>\n",
       "      <th>19</th>\n",
       "      <td>20</td>\n",
       "      <td>Gabriello</td>\n",
       "      <td>Jancso</td>\n",
       "      <td>Male</td>\n",
       "      <td>2</td>\n",
       "      <td>16400.000</td>\n",
       "    </tr>\n",
       "    <tr>\n",
       "      <th>0</th>\n",
       "      <td>1</td>\n",
       "      <td>Madlen</td>\n",
       "      <td>Conybear</td>\n",
       "      <td>Female</td>\n",
       "      <td>6</td>\n",
       "      <td>27600.000</td>\n",
       "    </tr>\n",
       "  </tbody>\n",
       "</table>\n",
       "</div>"
      ],
      "text/plain": [
       "    id first_name last_name  gender  years_of_experience     salary\n",
       "18  19        Ida  Conibear  Female                    9  37200.000\n",
       "13  14   Kimberli   Tonsley  Female                    9  35800.000\n",
       "8    9       Mona  Hallihan  Female                    3  26721.875\n",
       "19  20  Gabriello    Jancso    Male                    2  16400.000\n",
       "0    1     Madlen  Conybear  Female                    6  27600.000"
      ]
     },
     "execution_count": 785,
     "metadata": {},
     "output_type": "execute_result"
    }
   ],
   "source": [
    "teach_copy.sample(5)"
   ]
  },
  {
   "cell_type": "code",
   "execution_count": 786,
   "id": "2ffe2dbe-c9ca-4314-ad4b-c98fc4026e35",
   "metadata": {},
   "outputs": [
    {
     "data": {
      "text/html": [
       "<div>\n",
       "<style scoped>\n",
       "    .dataframe tbody tr th:only-of-type {\n",
       "        vertical-align: middle;\n",
       "    }\n",
       "\n",
       "    .dataframe tbody tr th {\n",
       "        vertical-align: top;\n",
       "    }\n",
       "\n",
       "    .dataframe thead th {\n",
       "        text-align: right;\n",
       "    }\n",
       "</style>\n",
       "<table border=\"1\" class=\"dataframe\">\n",
       "  <thead>\n",
       "    <tr style=\"text-align: right;\">\n",
       "      <th></th>\n",
       "      <th>course_id</th>\n",
       "      <th>course_name</th>\n",
       "      <th>course_category</th>\n",
       "      <th>teacher_id</th>\n",
       "      <th>course_start_date</th>\n",
       "    </tr>\n",
       "  </thead>\n",
       "  <tbody>\n",
       "    <tr>\n",
       "      <th>47</th>\n",
       "      <td>48</td>\n",
       "      <td>Product Manager</td>\n",
       "      <td>Product &amp; Business Strategy</td>\n",
       "      <td>2.0</td>\n",
       "      <td>2023-10-17</td>\n",
       "    </tr>\n",
       "    <tr>\n",
       "      <th>36</th>\n",
       "      <td>37</td>\n",
       "      <td>AI Developer</td>\n",
       "      <td>Software Development</td>\n",
       "      <td>5.0</td>\n",
       "      <td>2023-02-21</td>\n",
       "    </tr>\n",
       "    <tr>\n",
       "      <th>28</th>\n",
       "      <td>29</td>\n",
       "      <td>AI Developer</td>\n",
       "      <td>Software Development</td>\n",
       "      <td>28.0</td>\n",
       "      <td>2023-04-06</td>\n",
       "    </tr>\n",
       "    <tr>\n",
       "      <th>17</th>\n",
       "      <td>18</td>\n",
       "      <td>Full Stack Developer</td>\n",
       "      <td>Software Development</td>\n",
       "      <td>11.0</td>\n",
       "      <td>2023-11-23</td>\n",
       "    </tr>\n",
       "    <tr>\n",
       "      <th>7</th>\n",
       "      <td>8</td>\n",
       "      <td>AI Developer</td>\n",
       "      <td>Software Development</td>\n",
       "      <td>14.0</td>\n",
       "      <td>2023-03-25</td>\n",
       "    </tr>\n",
       "  </tbody>\n",
       "</table>\n",
       "</div>"
      ],
      "text/plain": [
       "    course_id           course_name              course_category  teacher_id  \\\n",
       "47         48       Product Manager  Product & Business Strategy         2.0   \n",
       "36         37          AI Developer         Software Development         5.0   \n",
       "28         29          AI Developer         Software Development        28.0   \n",
       "17         18  Full Stack Developer         Software Development        11.0   \n",
       "7           8          AI Developer         Software Development        14.0   \n",
       "\n",
       "   course_start_date  \n",
       "47        2023-10-17  \n",
       "36        2023-02-21  \n",
       "28        2023-04-06  \n",
       "17        2023-11-23  \n",
       "7         2023-03-25  "
      ]
     },
     "execution_count": 786,
     "metadata": {},
     "output_type": "execute_result"
    }
   ],
   "source": [
    "course_copy.sample(5)"
   ]
  },
  {
   "cell_type": "code",
   "execution_count": 787,
   "id": "141c4e23-9655-41a4-8874-237fb66c14cc",
   "metadata": {},
   "outputs": [],
   "source": [
    "cour_cnt = course_copy.groupby('teacher_id').count()['course_id'] \n",
    "max_cnt = cour_cnt.max()\n",
    "id_list = cour_cnt[cour_cnt == max_cnt].index.to_list()"
   ]
  },
  {
   "cell_type": "code",
   "execution_count": 788,
   "id": "0ebf6a4a-3b60-44f5-8fa4-ce854f4a3ac0",
   "metadata": {},
   "outputs": [
    {
     "data": {
      "text/html": [
       "<div>\n",
       "<style scoped>\n",
       "    .dataframe tbody tr th:only-of-type {\n",
       "        vertical-align: middle;\n",
       "    }\n",
       "\n",
       "    .dataframe tbody tr th {\n",
       "        vertical-align: top;\n",
       "    }\n",
       "\n",
       "    .dataframe thead th {\n",
       "        text-align: right;\n",
       "    }\n",
       "</style>\n",
       "<table border=\"1\" class=\"dataframe\">\n",
       "  <thead>\n",
       "    <tr style=\"text-align: right;\">\n",
       "      <th></th>\n",
       "      <th>id</th>\n",
       "      <th>first_name</th>\n",
       "      <th>last_name</th>\n",
       "      <th>gender</th>\n",
       "      <th>years_of_experience</th>\n",
       "      <th>salary</th>\n",
       "    </tr>\n",
       "  </thead>\n",
       "  <tbody>\n",
       "    <tr>\n",
       "      <th>2</th>\n",
       "      <td>3</td>\n",
       "      <td>Jillayne</td>\n",
       "      <td>Younger</td>\n",
       "      <td>Female</td>\n",
       "      <td>4</td>\n",
       "      <td>22000.000</td>\n",
       "    </tr>\n",
       "    <tr>\n",
       "      <th>4</th>\n",
       "      <td>5</td>\n",
       "      <td>Kennett</td>\n",
       "      <td>Bugdale</td>\n",
       "      <td>Male</td>\n",
       "      <td>8</td>\n",
       "      <td>33900.000</td>\n",
       "    </tr>\n",
       "    <tr>\n",
       "      <th>8</th>\n",
       "      <td>9</td>\n",
       "      <td>Mona</td>\n",
       "      <td>Hallihan</td>\n",
       "      <td>Female</td>\n",
       "      <td>3</td>\n",
       "      <td>26721.875</td>\n",
       "    </tr>\n",
       "    <tr>\n",
       "      <th>19</th>\n",
       "      <td>20</td>\n",
       "      <td>Gabriello</td>\n",
       "      <td>Jancso</td>\n",
       "      <td>Male</td>\n",
       "      <td>2</td>\n",
       "      <td>16400.000</td>\n",
       "    </tr>\n",
       "    <tr>\n",
       "      <th>20</th>\n",
       "      <td>21</td>\n",
       "      <td>Desirae</td>\n",
       "      <td>Grishunin</td>\n",
       "      <td>Female</td>\n",
       "      <td>6</td>\n",
       "      <td>26300.000</td>\n",
       "    </tr>\n",
       "  </tbody>\n",
       "</table>\n",
       "</div>"
      ],
      "text/plain": [
       "    id first_name  last_name  gender  years_of_experience     salary\n",
       "2    3   Jillayne    Younger  Female                    4  22000.000\n",
       "4    5    Kennett    Bugdale    Male                    8  33900.000\n",
       "8    9       Mona   Hallihan  Female                    3  26721.875\n",
       "19  20  Gabriello     Jancso    Male                    2  16400.000\n",
       "20  21    Desirae  Grishunin  Female                    6  26300.000"
      ]
     },
     "execution_count": 788,
     "metadata": {},
     "output_type": "execute_result"
    }
   ],
   "source": [
    "teach_copy[teach_copy['id'].isin(id_list)]"
   ]
  },
  {
   "cell_type": "markdown",
   "id": "baa69c4f-3067-42ab-b8c2-46c666471671",
   "metadata": {},
   "source": [
    "#### b."
   ]
  },
  {
   "cell_type": "code",
   "execution_count": 789,
   "id": "3ecc7b15-1d4a-44a6-a179-22a35a276fee",
   "metadata": {},
   "outputs": [
    {
     "data": {
      "text/html": [
       "<div>\n",
       "<style scoped>\n",
       "    .dataframe tbody tr th:only-of-type {\n",
       "        vertical-align: middle;\n",
       "    }\n",
       "\n",
       "    .dataframe tbody tr th {\n",
       "        vertical-align: top;\n",
       "    }\n",
       "\n",
       "    .dataframe thead th {\n",
       "        text-align: right;\n",
       "    }\n",
       "</style>\n",
       "<table border=\"1\" class=\"dataframe\">\n",
       "  <thead>\n",
       "    <tr style=\"text-align: right;\">\n",
       "      <th></th>\n",
       "      <th>id</th>\n",
       "      <th>first_name</th>\n",
       "      <th>last_name</th>\n",
       "      <th>gender</th>\n",
       "      <th>age</th>\n",
       "      <th>city</th>\n",
       "      <th>education</th>\n",
       "      <th>email</th>\n",
       "      <th>score</th>\n",
       "    </tr>\n",
       "  </thead>\n",
       "  <tbody>\n",
       "    <tr>\n",
       "      <th>46</th>\n",
       "      <td>47</td>\n",
       "      <td>Bogart</td>\n",
       "      <td>McAllen</td>\n",
       "      <td>Male</td>\n",
       "      <td>35.0</td>\n",
       "      <td>Tel Aviv</td>\n",
       "      <td>High school</td>\n",
       "      <td>bmcallen1a@cisco.com</td>\n",
       "      <td>8</td>\n",
       "    </tr>\n",
       "    <tr>\n",
       "      <th>358</th>\n",
       "      <td>359</td>\n",
       "      <td>Humfried</td>\n",
       "      <td>Cerith</td>\n",
       "      <td>Male</td>\n",
       "      <td>34.0</td>\n",
       "      <td>Haifa</td>\n",
       "      <td>Bachelor's degree</td>\n",
       "      <td>hcerith9y@furl.net</td>\n",
       "      <td>8</td>\n",
       "    </tr>\n",
       "    <tr>\n",
       "      <th>271</th>\n",
       "      <td>272</td>\n",
       "      <td>Margarita</td>\n",
       "      <td>Bennell</td>\n",
       "      <td>Female</td>\n",
       "      <td>46.0</td>\n",
       "      <td>Bat Yam</td>\n",
       "      <td>High school</td>\n",
       "      <td>mbennell7j@chronoengine.com</td>\n",
       "      <td>8</td>\n",
       "    </tr>\n",
       "    <tr>\n",
       "      <th>47</th>\n",
       "      <td>48</td>\n",
       "      <td>Elyse</td>\n",
       "      <td>Dunbobbin</td>\n",
       "      <td>Female</td>\n",
       "      <td>35.0</td>\n",
       "      <td>Netanya</td>\n",
       "      <td>Bachelor's degree</td>\n",
       "      <td>edunbobbin1b@psu.edu</td>\n",
       "      <td>8</td>\n",
       "    </tr>\n",
       "    <tr>\n",
       "      <th>172</th>\n",
       "      <td>173</td>\n",
       "      <td>Augustine</td>\n",
       "      <td>Wooles</td>\n",
       "      <td>NaN</td>\n",
       "      <td>24.0</td>\n",
       "      <td>Haifa</td>\n",
       "      <td>Bachelor's degree</td>\n",
       "      <td>awooles4s@cisco.com</td>\n",
       "      <td>7</td>\n",
       "    </tr>\n",
       "  </tbody>\n",
       "</table>\n",
       "</div>"
      ],
      "text/plain": [
       "      id first_name  last_name  gender   age      city          education  \\\n",
       "46    47     Bogart    McAllen    Male  35.0  Tel Aviv        High school   \n",
       "358  359   Humfried     Cerith    Male  34.0     Haifa  Bachelor's degree   \n",
       "271  272  Margarita    Bennell  Female  46.0   Bat Yam        High school   \n",
       "47    48      Elyse  Dunbobbin  Female  35.0   Netanya  Bachelor's degree   \n",
       "172  173  Augustine     Wooles     NaN  24.0     Haifa  Bachelor's degree   \n",
       "\n",
       "                           email  score  \n",
       "46          bmcallen1a@cisco.com      8  \n",
       "358           hcerith9y@furl.net      8  \n",
       "271  mbennell7j@chronoengine.com      8  \n",
       "47          edunbobbin1b@psu.edu      8  \n",
       "172          awooles4s@cisco.com      7  "
      ]
     },
     "execution_count": 789,
     "metadata": {},
     "output_type": "execute_result"
    }
   ],
   "source": [
    "stu_copy_df.sample(5)"
   ]
  },
  {
   "cell_type": "code",
   "execution_count": 790,
   "id": "1b3eeb2b-6ee3-4f71-aaf9-734120f96d62",
   "metadata": {},
   "outputs": [
    {
     "data": {
      "text/html": [
       "<div>\n",
       "<style scoped>\n",
       "    .dataframe tbody tr th:only-of-type {\n",
       "        vertical-align: middle;\n",
       "    }\n",
       "\n",
       "    .dataframe tbody tr th {\n",
       "        vertical-align: top;\n",
       "    }\n",
       "\n",
       "    .dataframe thead th {\n",
       "        text-align: right;\n",
       "    }\n",
       "</style>\n",
       "<table border=\"1\" class=\"dataframe\">\n",
       "  <thead>\n",
       "    <tr style=\"text-align: right;\">\n",
       "      <th></th>\n",
       "      <th>id</th>\n",
       "      <th>student_id</th>\n",
       "      <th>course_id</th>\n",
       "      <th>final_grade</th>\n",
       "    </tr>\n",
       "  </thead>\n",
       "  <tbody>\n",
       "    <tr>\n",
       "      <th>828</th>\n",
       "      <td>829</td>\n",
       "      <td>456</td>\n",
       "      <td>16</td>\n",
       "      <td>71.0</td>\n",
       "    </tr>\n",
       "    <tr>\n",
       "      <th>249</th>\n",
       "      <td>250</td>\n",
       "      <td>132</td>\n",
       "      <td>10</td>\n",
       "      <td>74.0</td>\n",
       "    </tr>\n",
       "    <tr>\n",
       "      <th>579</th>\n",
       "      <td>580</td>\n",
       "      <td>464</td>\n",
       "      <td>12</td>\n",
       "      <td>68.0</td>\n",
       "    </tr>\n",
       "    <tr>\n",
       "      <th>597</th>\n",
       "      <td>598</td>\n",
       "      <td>27</td>\n",
       "      <td>43</td>\n",
       "      <td>74.0</td>\n",
       "    </tr>\n",
       "    <tr>\n",
       "      <th>773</th>\n",
       "      <td>774</td>\n",
       "      <td>2</td>\n",
       "      <td>32</td>\n",
       "      <td>66.0</td>\n",
       "    </tr>\n",
       "  </tbody>\n",
       "</table>\n",
       "</div>"
      ],
      "text/plain": [
       "      id  student_id  course_id  final_grade\n",
       "828  829         456         16         71.0\n",
       "249  250         132         10         74.0\n",
       "579  580         464         12         68.0\n",
       "597  598          27         43         74.0\n",
       "773  774           2         32         66.0"
      ]
     },
     "execution_count": 790,
     "metadata": {},
     "output_type": "execute_result"
    }
   ],
   "source": [
    "stu_cour_copy_df.sample(5)"
   ]
  },
  {
   "cell_type": "code",
   "execution_count": 791,
   "id": "4a78c301-c17f-4e86-bcfb-f3072ea20c73",
   "metadata": {},
   "outputs": [
    {
     "data": {
      "text/html": [
       "<div>\n",
       "<style scoped>\n",
       "    .dataframe tbody tr th:only-of-type {\n",
       "        vertical-align: middle;\n",
       "    }\n",
       "\n",
       "    .dataframe tbody tr th {\n",
       "        vertical-align: top;\n",
       "    }\n",
       "\n",
       "    .dataframe thead th {\n",
       "        text-align: right;\n",
       "    }\n",
       "</style>\n",
       "<table border=\"1\" class=\"dataframe\">\n",
       "  <thead>\n",
       "    <tr style=\"text-align: right;\">\n",
       "      <th></th>\n",
       "      <th>id_x</th>\n",
       "      <th>first_name</th>\n",
       "      <th>last_name</th>\n",
       "      <th>gender</th>\n",
       "      <th>age</th>\n",
       "      <th>city</th>\n",
       "      <th>education</th>\n",
       "      <th>email</th>\n",
       "      <th>score</th>\n",
       "      <th>id_y</th>\n",
       "      <th>student_id</th>\n",
       "      <th>course_id</th>\n",
       "      <th>final_grade</th>\n",
       "    </tr>\n",
       "  </thead>\n",
       "  <tbody>\n",
       "    <tr>\n",
       "      <th>112</th>\n",
       "      <td>51</td>\n",
       "      <td>Alexandros</td>\n",
       "      <td>Wootton</td>\n",
       "      <td>Male</td>\n",
       "      <td>44.0</td>\n",
       "      <td>Ashdod</td>\n",
       "      <td>Bachelor's degree</td>\n",
       "      <td>awootton1e@booking.com</td>\n",
       "      <td>8</td>\n",
       "      <td>303</td>\n",
       "      <td>51</td>\n",
       "      <td>7</td>\n",
       "      <td>75.0</td>\n",
       "    </tr>\n",
       "    <tr>\n",
       "      <th>604</th>\n",
       "      <td>305</td>\n",
       "      <td>Mabel</td>\n",
       "      <td>Poley</td>\n",
       "      <td>Female</td>\n",
       "      <td>38.0</td>\n",
       "      <td>Tel Aviv</td>\n",
       "      <td>High school</td>\n",
       "      <td>mpoley8g@miitbeian.gov.cn</td>\n",
       "      <td>8</td>\n",
       "      <td>459</td>\n",
       "      <td>305</td>\n",
       "      <td>25</td>\n",
       "      <td>79.0</td>\n",
       "    </tr>\n",
       "    <tr>\n",
       "      <th>323</th>\n",
       "      <td>164</td>\n",
       "      <td>Zara</td>\n",
       "      <td>Goaley</td>\n",
       "      <td>Female</td>\n",
       "      <td>29.0</td>\n",
       "      <td>Bnei Brak</td>\n",
       "      <td>No education</td>\n",
       "      <td>zgoaley4j@ox.ac.uk</td>\n",
       "      <td>8</td>\n",
       "      <td>745</td>\n",
       "      <td>164</td>\n",
       "      <td>45</td>\n",
       "      <td>58.0</td>\n",
       "    </tr>\n",
       "    <tr>\n",
       "      <th>792</th>\n",
       "      <td>401</td>\n",
       "      <td>Lorilyn</td>\n",
       "      <td>Gammon</td>\n",
       "      <td>Female</td>\n",
       "      <td>20.0</td>\n",
       "      <td>Jerusalem</td>\n",
       "      <td>High school</td>\n",
       "      <td>lgammonb4@fotki.com</td>\n",
       "      <td>8</td>\n",
       "      <td>972</td>\n",
       "      <td>401</td>\n",
       "      <td>50</td>\n",
       "      <td>94.0</td>\n",
       "    </tr>\n",
       "    <tr>\n",
       "      <th>115</th>\n",
       "      <td>52</td>\n",
       "      <td>Waldo</td>\n",
       "      <td>Marcham</td>\n",
       "      <td>Male</td>\n",
       "      <td>34.0</td>\n",
       "      <td>Tel Aviv</td>\n",
       "      <td>Master's degree</td>\n",
       "      <td>wmarcham1f@bizjournals.com</td>\n",
       "      <td>7</td>\n",
       "      <td>400</td>\n",
       "      <td>52</td>\n",
       "      <td>21</td>\n",
       "      <td>82.0</td>\n",
       "    </tr>\n",
       "  </tbody>\n",
       "</table>\n",
       "</div>"
      ],
      "text/plain": [
       "     id_x  first_name last_name  gender   age       city          education  \\\n",
       "112    51  Alexandros   Wootton    Male  44.0     Ashdod  Bachelor's degree   \n",
       "604   305       Mabel     Poley  Female  38.0   Tel Aviv        High school   \n",
       "323   164        Zara    Goaley  Female  29.0  Bnei Brak       No education   \n",
       "792   401     Lorilyn    Gammon  Female  20.0  Jerusalem        High school   \n",
       "115    52       Waldo   Marcham    Male  34.0   Tel Aviv    Master's degree   \n",
       "\n",
       "                          email  score  id_y  student_id  course_id  \\\n",
       "112      awootton1e@booking.com      8   303          51          7   \n",
       "604   mpoley8g@miitbeian.gov.cn      8   459         305         25   \n",
       "323          zgoaley4j@ox.ac.uk      8   745         164         45   \n",
       "792         lgammonb4@fotki.com      8   972         401         50   \n",
       "115  wmarcham1f@bizjournals.com      7   400          52         21   \n",
       "\n",
       "     final_grade  \n",
       "112         75.0  \n",
       "604         79.0  \n",
       "323         58.0  \n",
       "792         94.0  \n",
       "115         82.0  "
      ]
     },
     "execution_count": 791,
     "metadata": {},
     "output_type": "execute_result"
    }
   ],
   "source": [
    "stu_gr = pd.merge(stu_copy_df, stu_cour_copy_df, how='inner', left_on='id', right_on='student_id')\n",
    "stu_gr.sample(5)"
   ]
  },
  {
   "cell_type": "code",
   "execution_count": 792,
   "id": "a18ac501-751e-48f1-8430-ebe69eb6215d",
   "metadata": {},
   "outputs": [
    {
     "data": {
      "text/html": [
       "<div>\n",
       "<style scoped>\n",
       "    .dataframe tbody tr th:only-of-type {\n",
       "        vertical-align: middle;\n",
       "    }\n",
       "\n",
       "    .dataframe tbody tr th {\n",
       "        vertical-align: top;\n",
       "    }\n",
       "\n",
       "    .dataframe thead th {\n",
       "        text-align: right;\n",
       "    }\n",
       "</style>\n",
       "<table border=\"1\" class=\"dataframe\">\n",
       "  <thead>\n",
       "    <tr style=\"text-align: right;\">\n",
       "      <th></th>\n",
       "      <th>education</th>\n",
       "      <th>final_grade</th>\n",
       "    </tr>\n",
       "  </thead>\n",
       "  <tbody>\n",
       "    <tr>\n",
       "      <th>709</th>\n",
       "      <td>No education</td>\n",
       "      <td>78.0</td>\n",
       "    </tr>\n",
       "    <tr>\n",
       "      <th>790</th>\n",
       "      <td>High school</td>\n",
       "      <td>83.0</td>\n",
       "    </tr>\n",
       "    <tr>\n",
       "      <th>810</th>\n",
       "      <td>High school</td>\n",
       "      <td>52.0</td>\n",
       "    </tr>\n",
       "    <tr>\n",
       "      <th>270</th>\n",
       "      <td>Master's degree</td>\n",
       "      <td>72.0</td>\n",
       "    </tr>\n",
       "    <tr>\n",
       "      <th>726</th>\n",
       "      <td>High school</td>\n",
       "      <td>61.0</td>\n",
       "    </tr>\n",
       "  </tbody>\n",
       "</table>\n",
       "</div>"
      ],
      "text/plain": [
       "           education  final_grade\n",
       "709     No education         78.0\n",
       "790      High school         83.0\n",
       "810      High school         52.0\n",
       "270  Master's degree         72.0\n",
       "726      High school         61.0"
      ]
     },
     "execution_count": 792,
     "metadata": {},
     "output_type": "execute_result"
    }
   ],
   "source": [
    "edu_dat = stu_gr[['education','final_grade']]\n",
    "edu_dat.sample(5)"
   ]
  },
  {
   "cell_type": "code",
   "execution_count": 793,
   "id": "13836b99-e1d6-4449-9e11-e7b8b0a92344",
   "metadata": {},
   "outputs": [
    {
     "data": {
      "image/png": "[encoded data removed]",
      "text/plain": [
       "<Figure size 720x432 with 1 Axes>"
      ]
     },
     "metadata": {
      "needs_background": "light"
     },
     "output_type": "display_data"
    }
   ],
   "source": [
    "fig, ax = plt.subplots(figsize=(10, 6))  \n",
    "sns.scatterplot(data = edu_dat, x = 'education', y = 'final_grade')\n",
    "plt.tight_layout()"
   ]
  },
  {
   "cell_type": "code",
   "execution_count": 794,
   "id": "0a3f890b-faf7-4597-babd-014f40306b13",
   "metadata": {},
   "outputs": [
    {
     "data": {
      "image/png": "[encoded data removed]",
      "text/plain": [
       "<Figure size 720x432 with 1 Axes>"
      ]
     },
     "metadata": {
      "needs_background": "light"
     },
     "output_type": "display_data"
    }
   ],
   "source": [
    "fig, ax = plt.subplots(figsize=(10, 6))  \n",
    "sns.boxplot(data = edu_dat, x = 'education', y = 'final_grade', hue = 'education' )\n",
    "plt.tight_layout()"
   ]
  },
  {
   "cell_type": "markdown",
   "id": "6d48f8fd-8c81-4a05-be63-73ee34f85a5b",
   "metadata": {},
   "source": [
    "There is no linear trand between education and final grade."
   ]
  },
  {
   "cell_type": "markdown",
   "id": "724ddd58-9479-4247-8489-8aefee465ed8",
   "metadata": {},
   "source": [
    "#### c."
   ]
  },
  {
   "cell_type": "code",
   "execution_count": 795,
   "id": "2b2f8040-fa6b-42f1-9225-b461bdad1eff",
   "metadata": {},
   "outputs": [
    {
     "data": {
      "text/html": [
       "<div>\n",
       "<style scoped>\n",
       "    .dataframe tbody tr th:only-of-type {\n",
       "        vertical-align: middle;\n",
       "    }\n",
       "\n",
       "    .dataframe tbody tr th {\n",
       "        vertical-align: top;\n",
       "    }\n",
       "\n",
       "    .dataframe thead th {\n",
       "        text-align: right;\n",
       "    }\n",
       "</style>\n",
       "<table border=\"1\" class=\"dataframe\">\n",
       "  <thead>\n",
       "    <tr style=\"text-align: right;\">\n",
       "      <th></th>\n",
       "      <th>course_id</th>\n",
       "      <th>course_name</th>\n",
       "      <th>course_category</th>\n",
       "      <th>teacher_id</th>\n",
       "      <th>course_start_date</th>\n",
       "    </tr>\n",
       "  </thead>\n",
       "  <tbody>\n",
       "    <tr>\n",
       "      <th>19</th>\n",
       "      <td>20</td>\n",
       "      <td>Full Stack Developer</td>\n",
       "      <td>Software Development</td>\n",
       "      <td>20.0</td>\n",
       "      <td>2023-09-23</td>\n",
       "    </tr>\n",
       "    <tr>\n",
       "      <th>27</th>\n",
       "      <td>28</td>\n",
       "      <td>Full Stack Developer</td>\n",
       "      <td>Software Development</td>\n",
       "      <td>20.0</td>\n",
       "      <td>2023-04-09</td>\n",
       "    </tr>\n",
       "    <tr>\n",
       "      <th>20</th>\n",
       "      <td>21</td>\n",
       "      <td>Full Stack Developer</td>\n",
       "      <td>Software Development</td>\n",
       "      <td>22.0</td>\n",
       "      <td>2023-08-23</td>\n",
       "    </tr>\n",
       "    <tr>\n",
       "      <th>39</th>\n",
       "      <td>40</td>\n",
       "      <td>AI Developer</td>\n",
       "      <td>Software Development</td>\n",
       "      <td>12.0</td>\n",
       "      <td>2023-09-02</td>\n",
       "    </tr>\n",
       "    <tr>\n",
       "      <th>10</th>\n",
       "      <td>11</td>\n",
       "      <td>Cyber</td>\n",
       "      <td>Data Science &amp; Security</td>\n",
       "      <td>9.0</td>\n",
       "      <td>2023-10-13</td>\n",
       "    </tr>\n",
       "  </tbody>\n",
       "</table>\n",
       "</div>"
      ],
      "text/plain": [
       "    course_id           course_name          course_category  teacher_id  \\\n",
       "19         20  Full Stack Developer     Software Development        20.0   \n",
       "27         28  Full Stack Developer     Software Development        20.0   \n",
       "20         21  Full Stack Developer     Software Development        22.0   \n",
       "39         40          AI Developer     Software Development        12.0   \n",
       "10         11                 Cyber  Data Science & Security         9.0   \n",
       "\n",
       "   course_start_date  \n",
       "19        2023-09-23  \n",
       "27        2023-04-09  \n",
       "20        2023-08-23  \n",
       "39        2023-09-02  \n",
       "10        2023-10-13  "
      ]
     },
     "execution_count": 795,
     "metadata": {},
     "output_type": "execute_result"
    }
   ],
   "source": [
    "course_copy.sample(5)"
   ]
  },
  {
   "cell_type": "code",
   "execution_count": 796,
   "id": "64928caf-664c-451f-81a8-2209086e3d5d",
   "metadata": {},
   "outputs": [
    {
     "data": {
      "text/html": [
       "<div>\n",
       "<style scoped>\n",
       "    .dataframe tbody tr th:only-of-type {\n",
       "        vertical-align: middle;\n",
       "    }\n",
       "\n",
       "    .dataframe tbody tr th {\n",
       "        vertical-align: top;\n",
       "    }\n",
       "\n",
       "    .dataframe thead th {\n",
       "        text-align: right;\n",
       "    }\n",
       "</style>\n",
       "<table border=\"1\" class=\"dataframe\">\n",
       "  <thead>\n",
       "    <tr style=\"text-align: right;\">\n",
       "      <th></th>\n",
       "      <th>course_id</th>\n",
       "      <th>course_name</th>\n",
       "      <th>course_category</th>\n",
       "      <th>teacher_id</th>\n",
       "      <th>course_start_date</th>\n",
       "      <th>id</th>\n",
       "      <th>student_id</th>\n",
       "      <th>final_grade</th>\n",
       "    </tr>\n",
       "  </thead>\n",
       "  <tbody>\n",
       "    <tr>\n",
       "      <th>696</th>\n",
       "      <td>38</td>\n",
       "      <td>Cyber</td>\n",
       "      <td>Data Science &amp; Security</td>\n",
       "      <td>9.0</td>\n",
       "      <td>2023-09-30</td>\n",
       "      <td>616</td>\n",
       "      <td>282</td>\n",
       "      <td>79.0</td>\n",
       "    </tr>\n",
       "    <tr>\n",
       "      <th>620</th>\n",
       "      <td>35</td>\n",
       "      <td>AI Developer</td>\n",
       "      <td>Software Development</td>\n",
       "      <td>21.0</td>\n",
       "      <td>2023-06-22</td>\n",
       "      <td>819</td>\n",
       "      <td>163</td>\n",
       "      <td>69.0</td>\n",
       "    </tr>\n",
       "    <tr>\n",
       "      <th>614</th>\n",
       "      <td>35</td>\n",
       "      <td>AI Developer</td>\n",
       "      <td>Software Development</td>\n",
       "      <td>21.0</td>\n",
       "      <td>2023-06-22</td>\n",
       "      <td>712</td>\n",
       "      <td>335</td>\n",
       "      <td>69.0</td>\n",
       "    </tr>\n",
       "    <tr>\n",
       "      <th>243</th>\n",
       "      <td>15</td>\n",
       "      <td>DevOps Engineer</td>\n",
       "      <td>Software Development</td>\n",
       "      <td>17.0</td>\n",
       "      <td>2023-10-11</td>\n",
       "      <td>692</td>\n",
       "      <td>114</td>\n",
       "      <td>66.0</td>\n",
       "    </tr>\n",
       "    <tr>\n",
       "      <th>322</th>\n",
       "      <td>21</td>\n",
       "      <td>Full Stack Developer</td>\n",
       "      <td>Software Development</td>\n",
       "      <td>22.0</td>\n",
       "      <td>2023-08-23</td>\n",
       "      <td>222</td>\n",
       "      <td>237</td>\n",
       "      <td>75.0</td>\n",
       "    </tr>\n",
       "  </tbody>\n",
       "</table>\n",
       "</div>"
      ],
      "text/plain": [
       "     course_id           course_name          course_category  teacher_id  \\\n",
       "696         38                 Cyber  Data Science & Security         9.0   \n",
       "620         35          AI Developer     Software Development        21.0   \n",
       "614         35          AI Developer     Software Development        21.0   \n",
       "243         15       DevOps Engineer     Software Development        17.0   \n",
       "322         21  Full Stack Developer     Software Development        22.0   \n",
       "\n",
       "    course_start_date   id  student_id  final_grade  \n",
       "696        2023-09-30  616         282         79.0  \n",
       "620        2023-06-22  819         163         69.0  \n",
       "614        2023-06-22  712         335         69.0  \n",
       "243        2023-10-11  692         114         66.0  \n",
       "322        2023-08-23  222         237         75.0  "
      ]
     },
     "execution_count": 796,
     "metadata": {},
     "output_type": "execute_result"
    }
   ],
   "source": [
    "cour_gr = pd.merge(course_copy, stu_cour_copy_df, how='inner', on='course_id')\n",
    "cour_gr.sample(5)"
   ]
  },
  {
   "cell_type": "code",
   "execution_count": 797,
   "id": "42d99bd4-ab3e-4712-8b5d-04a9f78c10d4",
   "metadata": {},
   "outputs": [
    {
     "data": {
      "text/plain": [
       "course_name\n",
       "AI Developer            70.059649\n",
       "Cyber                   69.554839\n",
       "DevOps Engineer         69.428571\n",
       "Full Stack Developer    69.303483\n",
       "Product Manager         70.151079\n",
       "QA                      67.941176\n",
       "Name: final_grade, dtype: float64"
      ]
     },
     "execution_count": 797,
     "metadata": {},
     "output_type": "execute_result"
    }
   ],
   "source": [
    "bar_dat = cour_gr.groupby('course_name')['final_grade'].mean()\n",
    "bar_dat"
   ]
  },
  {
   "cell_type": "code",
   "execution_count": 798,
   "id": "600dbb8c-ee11-4f91-9b9f-6e4122441418",
   "metadata": {},
   "outputs": [
    {
     "data": {
      "image/png": "[encoded data removed]",
      "text/plain": [
       "<Figure size 720x432 with 1 Axes>"
      ]
     },
     "metadata": {
      "needs_background": "light"
     },
     "output_type": "display_data"
    }
   ],
   "source": [
    "bar_df = bar_dat.reset_index()\n",
    "bar_df.columns = ['Course', 'Mean grade']\n",
    "fig, ax = plt.subplots(figsize=(10, 6))  \n",
    "\n",
    "sns.barplot(data = bar_df, x = 'Course', y = 'Mean grade')\n",
    "plt.tight_layout()"
   ]
  },
  {
   "cell_type": "markdown",
   "id": "d9df1e83-1989-4a27-8017-cbdad6d80b96",
   "metadata": {},
   "source": [
    "Mean grades are more or less similar in all courses they are 68 to 70."
   ]
  },
  {
   "cell_type": "markdown",
   "id": "70c4f004-42fc-4ec6-9822-d1b9a18650c7",
   "metadata": {},
   "source": [
    "#### d."
   ]
  },
  {
   "cell_type": "code",
   "execution_count": 799,
   "id": "403074b4-4ece-4c48-b408-46315652d3e5",
   "metadata": {},
   "outputs": [
    {
     "data": {
      "text/html": [
       "<div>\n",
       "<style scoped>\n",
       "    .dataframe tbody tr th:only-of-type {\n",
       "        vertical-align: middle;\n",
       "    }\n",
       "\n",
       "    .dataframe tbody tr th {\n",
       "        vertical-align: top;\n",
       "    }\n",
       "\n",
       "    .dataframe thead th {\n",
       "        text-align: right;\n",
       "    }\n",
       "</style>\n",
       "<table border=\"1\" class=\"dataframe\">\n",
       "  <thead>\n",
       "    <tr style=\"text-align: right;\">\n",
       "      <th></th>\n",
       "      <th>id_x</th>\n",
       "      <th>first_name</th>\n",
       "      <th>last_name</th>\n",
       "      <th>gender</th>\n",
       "      <th>age</th>\n",
       "      <th>city</th>\n",
       "      <th>education</th>\n",
       "      <th>email</th>\n",
       "      <th>score</th>\n",
       "      <th>id_y</th>\n",
       "      <th>student_id</th>\n",
       "      <th>course_id</th>\n",
       "      <th>final_grade</th>\n",
       "    </tr>\n",
       "  </thead>\n",
       "  <tbody>\n",
       "    <tr>\n",
       "      <th>603</th>\n",
       "      <td>305</td>\n",
       "      <td>Mabel</td>\n",
       "      <td>Poley</td>\n",
       "      <td>Female</td>\n",
       "      <td>38.0</td>\n",
       "      <td>Tel Aviv</td>\n",
       "      <td>High school</td>\n",
       "      <td>mpoley8g@miitbeian.gov.cn</td>\n",
       "      <td>8</td>\n",
       "      <td>77</td>\n",
       "      <td>305</td>\n",
       "      <td>27</td>\n",
       "      <td>83.0</td>\n",
       "    </tr>\n",
       "    <tr>\n",
       "      <th>166</th>\n",
       "      <td>79</td>\n",
       "      <td>Jane</td>\n",
       "      <td>Philpault</td>\n",
       "      <td>Female</td>\n",
       "      <td>34.0</td>\n",
       "      <td>Haifa</td>\n",
       "      <td>Bachelor's degree</td>\n",
       "      <td>jphilpault26@google.cn</td>\n",
       "      <td>7</td>\n",
       "      <td>436</td>\n",
       "      <td>79</td>\n",
       "      <td>13</td>\n",
       "      <td>64.0</td>\n",
       "    </tr>\n",
       "    <tr>\n",
       "      <th>208</th>\n",
       "      <td>103</td>\n",
       "      <td>Kingsly</td>\n",
       "      <td>Hannam</td>\n",
       "      <td>Male</td>\n",
       "      <td>50.0</td>\n",
       "      <td>Bnei Brak</td>\n",
       "      <td>No education</td>\n",
       "      <td>khannam2u@google.cn</td>\n",
       "      <td>8</td>\n",
       "      <td>398</td>\n",
       "      <td>103</td>\n",
       "      <td>49</td>\n",
       "      <td>70.0</td>\n",
       "    </tr>\n",
       "    <tr>\n",
       "      <th>999</th>\n",
       "      <td>500</td>\n",
       "      <td>Gillan</td>\n",
       "      <td>Terram</td>\n",
       "      <td>Female</td>\n",
       "      <td>34.0</td>\n",
       "      <td>Haifa</td>\n",
       "      <td>Bachelor's degree</td>\n",
       "      <td>gterramdv@friendfeed.com</td>\n",
       "      <td>8</td>\n",
       "      <td>691</td>\n",
       "      <td>500</td>\n",
       "      <td>13</td>\n",
       "      <td>73.0</td>\n",
       "    </tr>\n",
       "    <tr>\n",
       "      <th>664</th>\n",
       "      <td>333</td>\n",
       "      <td>Jacquelyn</td>\n",
       "      <td>Addionizio</td>\n",
       "      <td>Female</td>\n",
       "      <td>18.0</td>\n",
       "      <td>Petah Tikva</td>\n",
       "      <td>No education</td>\n",
       "      <td>jaddionizio98@blinklist.com</td>\n",
       "      <td>8</td>\n",
       "      <td>465</td>\n",
       "      <td>333</td>\n",
       "      <td>23</td>\n",
       "      <td>71.0</td>\n",
       "    </tr>\n",
       "    <tr>\n",
       "      <th>826</th>\n",
       "      <td>422</td>\n",
       "      <td>Stephannie</td>\n",
       "      <td>Perse</td>\n",
       "      <td>Female</td>\n",
       "      <td>18.0</td>\n",
       "      <td>Ashkelon</td>\n",
       "      <td>High school</td>\n",
       "      <td>spersebp@spiegel.de</td>\n",
       "      <td>8</td>\n",
       "      <td>76</td>\n",
       "      <td>422</td>\n",
       "      <td>36</td>\n",
       "      <td>63.0</td>\n",
       "    </tr>\n",
       "    <tr>\n",
       "      <th>508</th>\n",
       "      <td>254</td>\n",
       "      <td>Ruthie</td>\n",
       "      <td>Tomaszkiewicz</td>\n",
       "      <td>Female</td>\n",
       "      <td>49.0</td>\n",
       "      <td>Herzliya</td>\n",
       "      <td>Bachelor's degree</td>\n",
       "      <td>rtomaszkiewicz71@privacy.gov.au</td>\n",
       "      <td>8</td>\n",
       "      <td>631</td>\n",
       "      <td>254</td>\n",
       "      <td>43</td>\n",
       "      <td>64.0</td>\n",
       "    </tr>\n",
       "    <tr>\n",
       "      <th>122</th>\n",
       "      <td>55</td>\n",
       "      <td>Gusella</td>\n",
       "      <td>Wadlow</td>\n",
       "      <td>Female</td>\n",
       "      <td>30.0</td>\n",
       "      <td>Ashkelon</td>\n",
       "      <td>No education</td>\n",
       "      <td>gwadlow1i@histats.com</td>\n",
       "      <td>8</td>\n",
       "      <td>331</td>\n",
       "      <td>55</td>\n",
       "      <td>43</td>\n",
       "      <td>78.0</td>\n",
       "    </tr>\n",
       "    <tr>\n",
       "      <th>509</th>\n",
       "      <td>255</td>\n",
       "      <td>Mikael</td>\n",
       "      <td>Cluitt</td>\n",
       "      <td>NaN</td>\n",
       "      <td>39.0</td>\n",
       "      <td>Rishon LeZion</td>\n",
       "      <td>Bachelor's degree</td>\n",
       "      <td>mcluitt72@rambler.ru</td>\n",
       "      <td>7</td>\n",
       "      <td>150</td>\n",
       "      <td>255</td>\n",
       "      <td>29</td>\n",
       "      <td>73.0</td>\n",
       "    </tr>\n",
       "    <tr>\n",
       "      <th>94</th>\n",
       "      <td>42</td>\n",
       "      <td>Alic</td>\n",
       "      <td>Kliesl</td>\n",
       "      <td>Male</td>\n",
       "      <td>29.0</td>\n",
       "      <td>Jerusalem</td>\n",
       "      <td>Master's degree</td>\n",
       "      <td>akliesl15@cam.ac.uk</td>\n",
       "      <td>8</td>\n",
       "      <td>241</td>\n",
       "      <td>42</td>\n",
       "      <td>24</td>\n",
       "      <td>66.0</td>\n",
       "    </tr>\n",
       "  </tbody>\n",
       "</table>\n",
       "</div>"
      ],
      "text/plain": [
       "     id_x  first_name      last_name  gender   age           city  \\\n",
       "603   305       Mabel          Poley  Female  38.0       Tel Aviv   \n",
       "166    79        Jane      Philpault  Female  34.0          Haifa   \n",
       "208   103     Kingsly         Hannam    Male  50.0      Bnei Brak   \n",
       "999   500      Gillan         Terram  Female  34.0          Haifa   \n",
       "664   333   Jacquelyn     Addionizio  Female  18.0    Petah Tikva   \n",
       "826   422  Stephannie          Perse  Female  18.0       Ashkelon   \n",
       "508   254      Ruthie  Tomaszkiewicz  Female  49.0       Herzliya   \n",
       "122    55     Gusella         Wadlow  Female  30.0       Ashkelon   \n",
       "509   255      Mikael         Cluitt     NaN  39.0  Rishon LeZion   \n",
       "94     42        Alic         Kliesl    Male  29.0      Jerusalem   \n",
       "\n",
       "             education                            email  score  id_y  \\\n",
       "603        High school        mpoley8g@miitbeian.gov.cn      8    77   \n",
       "166  Bachelor's degree           jphilpault26@google.cn      7   436   \n",
       "208       No education              khannam2u@google.cn      8   398   \n",
       "999  Bachelor's degree         gterramdv@friendfeed.com      8   691   \n",
       "664       No education      jaddionizio98@blinklist.com      8   465   \n",
       "826        High school              spersebp@spiegel.de      8    76   \n",
       "508  Bachelor's degree  rtomaszkiewicz71@privacy.gov.au      8   631   \n",
       "122       No education            gwadlow1i@histats.com      8   331   \n",
       "509  Bachelor's degree             mcluitt72@rambler.ru      7   150   \n",
       "94     Master's degree              akliesl15@cam.ac.uk      8   241   \n",
       "\n",
       "     student_id  course_id  final_grade  \n",
       "603         305         27         83.0  \n",
       "166          79         13         64.0  \n",
       "208         103         49         70.0  \n",
       "999         500         13         73.0  \n",
       "664         333         23         71.0  \n",
       "826         422         36         63.0  \n",
       "508         254         43         64.0  \n",
       "122          55         43         78.0  \n",
       "509         255         29         73.0  \n",
       "94           42         24         66.0  "
      ]
     },
     "execution_count": 799,
     "metadata": {},
     "output_type": "execute_result"
    }
   ],
   "source": [
    "stu_gr.sample(10)"
   ]
  },
  {
   "cell_type": "code",
   "execution_count": 800,
   "id": "8383b196-d725-41f4-b48a-2d1d7fe53800",
   "metadata": {},
   "outputs": [
    {
     "data": {
      "text/html": [
       "<div>\n",
       "<style scoped>\n",
       "    .dataframe tbody tr th:only-of-type {\n",
       "        vertical-align: middle;\n",
       "    }\n",
       "\n",
       "    .dataframe tbody tr th {\n",
       "        vertical-align: top;\n",
       "    }\n",
       "\n",
       "    .dataframe thead th {\n",
       "        text-align: right;\n",
       "    }\n",
       "</style>\n",
       "<table border=\"1\" class=\"dataframe\">\n",
       "  <thead>\n",
       "    <tr style=\"text-align: right;\">\n",
       "      <th></th>\n",
       "      <th>student_id</th>\n",
       "      <th>course_id</th>\n",
       "      <th>grade</th>\n",
       "    </tr>\n",
       "  </thead>\n",
       "  <tbody>\n",
       "    <tr>\n",
       "      <th>0</th>\n",
       "      <td>1</td>\n",
       "      <td>38</td>\n",
       "      <td>75.0</td>\n",
       "    </tr>\n",
       "    <tr>\n",
       "      <th>1</th>\n",
       "      <td>1</td>\n",
       "      <td>47</td>\n",
       "      <td>63.0</td>\n",
       "    </tr>\n",
       "    <tr>\n",
       "      <th>2</th>\n",
       "      <td>2</td>\n",
       "      <td>21</td>\n",
       "      <td>49.0</td>\n",
       "    </tr>\n",
       "    <tr>\n",
       "      <th>3</th>\n",
       "      <td>2</td>\n",
       "      <td>32</td>\n",
       "      <td>66.0</td>\n",
       "    </tr>\n",
       "    <tr>\n",
       "      <th>4</th>\n",
       "      <td>2</td>\n",
       "      <td>40</td>\n",
       "      <td>74.0</td>\n",
       "    </tr>\n",
       "    <tr>\n",
       "      <th>...</th>\n",
       "      <td>...</td>\n",
       "      <td>...</td>\n",
       "      <td>...</td>\n",
       "    </tr>\n",
       "    <tr>\n",
       "      <th>973</th>\n",
       "      <td>499</td>\n",
       "      <td>3</td>\n",
       "      <td>81.0</td>\n",
       "    </tr>\n",
       "    <tr>\n",
       "      <th>974</th>\n",
       "      <td>499</td>\n",
       "      <td>24</td>\n",
       "      <td>66.0</td>\n",
       "    </tr>\n",
       "    <tr>\n",
       "      <th>975</th>\n",
       "      <td>500</td>\n",
       "      <td>5</td>\n",
       "      <td>66.0</td>\n",
       "    </tr>\n",
       "    <tr>\n",
       "      <th>976</th>\n",
       "      <td>500</td>\n",
       "      <td>6</td>\n",
       "      <td>61.0</td>\n",
       "    </tr>\n",
       "    <tr>\n",
       "      <th>977</th>\n",
       "      <td>500</td>\n",
       "      <td>13</td>\n",
       "      <td>73.0</td>\n",
       "    </tr>\n",
       "  </tbody>\n",
       "</table>\n",
       "<p>978 rows × 3 columns</p>\n",
       "</div>"
      ],
      "text/plain": [
       "     student_id  course_id  grade\n",
       "0             1         38   75.0\n",
       "1             1         47   63.0\n",
       "2             2         21   49.0\n",
       "3             2         32   66.0\n",
       "4             2         40   74.0\n",
       "..          ...        ...    ...\n",
       "973         499          3   81.0\n",
       "974         499         24   66.0\n",
       "975         500          5   66.0\n",
       "976         500          6   61.0\n",
       "977         500         13   73.0\n",
       "\n",
       "[978 rows x 3 columns]"
      ]
     },
     "execution_count": 800,
     "metadata": {},
     "output_type": "execute_result"
    }
   ],
   "source": [
    "fin_gr = stu_gr.groupby(['student_id', 'course_id'])['final_grade'].max()\n",
    "fin_gr_df = fin_gr.reset_index()\n",
    "fin_gr_df.columns = ['student_id', 'course_id','grade']\n",
    "fin_gr_df"
   ]
  },
  {
   "cell_type": "code",
   "execution_count": 801,
   "id": "51c79348-2483-4031-a43f-5b784248eaf1",
   "metadata": {},
   "outputs": [
    {
     "data": {
      "text/plain": [
       "student_id\n",
       "1      69.000000\n",
       "2      65.750000\n",
       "3      72.000000\n",
       "4      81.500000\n",
       "5      76.500000\n",
       "         ...    \n",
       "496    63.000000\n",
       "497    71.000000\n",
       "498    68.500000\n",
       "499    73.500000\n",
       "500    66.666667\n",
       "Name: grade, Length: 433, dtype: float64"
      ]
     },
     "execution_count": 801,
     "metadata": {},
     "output_type": "execute_result"
    }
   ],
   "source": [
    "fin_gr_df.groupby(['student_id'])['grade'].mean()"
   ]
  },
  {
   "cell_type": "code",
   "execution_count": 803,
   "id": "a8eb14f4-e1d6-425f-ac22-ef40d41f9421",
   "metadata": {},
   "outputs": [
    {
     "data": {
      "text/html": [
       "<div>\n",
       "<style scoped>\n",
       "    .dataframe tbody tr th:only-of-type {\n",
       "        vertical-align: middle;\n",
       "    }\n",
       "\n",
       "    .dataframe tbody tr th {\n",
       "        vertical-align: top;\n",
       "    }\n",
       "\n",
       "    .dataframe thead th {\n",
       "        text-align: right;\n",
       "    }\n",
       "</style>\n",
       "<table border=\"1\" class=\"dataframe\">\n",
       "  <thead>\n",
       "    <tr style=\"text-align: right;\">\n",
       "      <th></th>\n",
       "      <th>student_id</th>\n",
       "      <th>final_college_grade</th>\n",
       "    </tr>\n",
       "  </thead>\n",
       "  <tbody>\n",
       "    <tr>\n",
       "      <th>0</th>\n",
       "      <td>1</td>\n",
       "      <td>69.000000</td>\n",
       "    </tr>\n",
       "    <tr>\n",
       "      <th>1</th>\n",
       "      <td>2</td>\n",
       "      <td>65.750000</td>\n",
       "    </tr>\n",
       "    <tr>\n",
       "      <th>2</th>\n",
       "      <td>3</td>\n",
       "      <td>72.000000</td>\n",
       "    </tr>\n",
       "    <tr>\n",
       "      <th>3</th>\n",
       "      <td>4</td>\n",
       "      <td>81.500000</td>\n",
       "    </tr>\n",
       "    <tr>\n",
       "      <th>4</th>\n",
       "      <td>5</td>\n",
       "      <td>76.500000</td>\n",
       "    </tr>\n",
       "    <tr>\n",
       "      <th>...</th>\n",
       "      <td>...</td>\n",
       "      <td>...</td>\n",
       "    </tr>\n",
       "    <tr>\n",
       "      <th>428</th>\n",
       "      <td>496</td>\n",
       "      <td>63.000000</td>\n",
       "    </tr>\n",
       "    <tr>\n",
       "      <th>429</th>\n",
       "      <td>497</td>\n",
       "      <td>71.000000</td>\n",
       "    </tr>\n",
       "    <tr>\n",
       "      <th>430</th>\n",
       "      <td>498</td>\n",
       "      <td>68.500000</td>\n",
       "    </tr>\n",
       "    <tr>\n",
       "      <th>431</th>\n",
       "      <td>499</td>\n",
       "      <td>73.500000</td>\n",
       "    </tr>\n",
       "    <tr>\n",
       "      <th>432</th>\n",
       "      <td>500</td>\n",
       "      <td>66.666667</td>\n",
       "    </tr>\n",
       "  </tbody>\n",
       "</table>\n",
       "<p>433 rows × 2 columns</p>\n",
       "</div>"
      ],
      "text/plain": [
       "     student_id  final_college_grade\n",
       "0             1            69.000000\n",
       "1             2            65.750000\n",
       "2             3            72.000000\n",
       "3             4            81.500000\n",
       "4             5            76.500000\n",
       "..          ...                  ...\n",
       "428         496            63.000000\n",
       "429         497            71.000000\n",
       "430         498            68.500000\n",
       "431         499            73.500000\n",
       "432         500            66.666667\n",
       "\n",
       "[433 rows x 2 columns]"
      ]
     },
     "execution_count": 803,
     "metadata": {},
     "output_type": "execute_result"
    }
   ],
   "source": [
    "stu_gr_df = fin_gr_df.groupby(['student_id'])['grade'].mean().reset_index()\n",
    "stu_gr_df.columns = ['student_id', 'final_college_grade']\n",
    "stu_gr_df"
   ]
  },
  {
   "cell_type": "code",
   "execution_count": null,
   "id": "215fdf80-592c-4972-a9a3-d3408324a1cb",
   "metadata": {},
   "outputs": [],
   "source": []
  }
 ],
 "metadata": {
  "kernelspec": {
   "display_name": "Python 3 (ipykernel)",
   "language": "python",
   "name": "python3"
  },
  "language_info": {
   "codemirror_mode": {
    "name": "ipython",
    "version": 3
   },
   "file_extension": ".py",
   "mimetype": "text/x-python",
   "name": "python",
   "nbconvert_exporter": "python",
   "pygments_lexer": "ipython3",
   "version": "3.10.12"
  }
 },
 "nbformat": 4,
 "nbformat_minor": 5
}
